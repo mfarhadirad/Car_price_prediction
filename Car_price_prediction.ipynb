{
 "cells": [
  {
   "cell_type": "markdown",
   "id": "310bed35",
   "metadata": {},
   "source": [
    "# Car price prediction"
   ]
  },
  {
   "cell_type": "markdown",
   "id": "a568a34f",
   "metadata": {},
   "source": [
    "In this notebook we are going to do a regression project to predict selling price of a car based on some features that are provided in dataset."
   ]
  },
  {
   "cell_type": "markdown",
   "id": "987fcb3c",
   "metadata": {},
   "source": [
    "## Data Dictionary"
   ]
  },
  {
   "cell_type": "markdown",
   "id": "8cad8d86",
   "metadata": {},
   "source": [
    "* **Car_name**       -----> The name of the car.\n",
    "\n",
    "* **Year**           -----> Year of car production.\n",
    "\n",
    "* **Selling_price**  -----> The price that car was dealed with: target value\n",
    "\n",
    "* **Present_price**  -----> Current car's price .\n",
    "\n",
    "* **Kms_Driven**     -----> The distance traveled by the car in kilometer.\n",
    "\n",
    "* **Fuel_Type**      -----> Fuel type that car uses.\n",
    "\n",
    "* **Seller_type**    -----> Car has sold be a dealer or a individual.\n",
    "\n",
    "* **Transmission**   -----> Type of gearbox that car has.\n",
    "\n",
    "* **Owner**          -----> The number of previous owner."
   ]
  },
  {
   "cell_type": "code",
   "execution_count": 1,
   "id": "19d39186",
   "metadata": {},
   "outputs": [],
   "source": [
    "import numpy as np\n",
    "import pandas as pd\n",
    "import matplotlib.pyplot as plt\n",
    "import seaborn as sns"
   ]
  },
  {
   "cell_type": "code",
   "execution_count": 2,
   "id": "8a234d74",
   "metadata": {},
   "outputs": [],
   "source": [
    "# Defining the path\n",
    "path = 'E:/EDU/Programming/Python/AI/car_prediction_data.csv'"
   ]
  },
  {
   "cell_type": "code",
   "execution_count": 3,
   "id": "bb6ae18a",
   "metadata": {},
   "outputs": [
    {
     "data": {
      "text/html": [
       "<div>\n",
       "<style scoped>\n",
       "    .dataframe tbody tr th:only-of-type {\n",
       "        vertical-align: middle;\n",
       "    }\n",
       "\n",
       "    .dataframe tbody tr th {\n",
       "        vertical-align: top;\n",
       "    }\n",
       "\n",
       "    .dataframe thead th {\n",
       "        text-align: right;\n",
       "    }\n",
       "</style>\n",
       "<table border=\"1\" class=\"dataframe\">\n",
       "  <thead>\n",
       "    <tr style=\"text-align: right;\">\n",
       "      <th></th>\n",
       "      <th>Car_Name</th>\n",
       "      <th>Year</th>\n",
       "      <th>Selling_Price</th>\n",
       "      <th>Present_Price</th>\n",
       "      <th>Kms_Driven</th>\n",
       "      <th>Fuel_Type</th>\n",
       "      <th>Seller_Type</th>\n",
       "      <th>Transmission</th>\n",
       "      <th>Owner</th>\n",
       "    </tr>\n",
       "  </thead>\n",
       "  <tbody>\n",
       "    <tr>\n",
       "      <th>0</th>\n",
       "      <td>ritz</td>\n",
       "      <td>2014</td>\n",
       "      <td>3.35</td>\n",
       "      <td>5.59</td>\n",
       "      <td>27000</td>\n",
       "      <td>Petrol</td>\n",
       "      <td>Dealer</td>\n",
       "      <td>Manual</td>\n",
       "      <td>0</td>\n",
       "    </tr>\n",
       "    <tr>\n",
       "      <th>1</th>\n",
       "      <td>sx4</td>\n",
       "      <td>2013</td>\n",
       "      <td>4.75</td>\n",
       "      <td>9.54</td>\n",
       "      <td>43000</td>\n",
       "      <td>Diesel</td>\n",
       "      <td>Dealer</td>\n",
       "      <td>Manual</td>\n",
       "      <td>0</td>\n",
       "    </tr>\n",
       "    <tr>\n",
       "      <th>2</th>\n",
       "      <td>ciaz</td>\n",
       "      <td>2017</td>\n",
       "      <td>7.25</td>\n",
       "      <td>9.85</td>\n",
       "      <td>6900</td>\n",
       "      <td>Petrol</td>\n",
       "      <td>Dealer</td>\n",
       "      <td>Manual</td>\n",
       "      <td>0</td>\n",
       "    </tr>\n",
       "    <tr>\n",
       "      <th>3</th>\n",
       "      <td>wagon r</td>\n",
       "      <td>2011</td>\n",
       "      <td>2.85</td>\n",
       "      <td>4.15</td>\n",
       "      <td>5200</td>\n",
       "      <td>Petrol</td>\n",
       "      <td>Dealer</td>\n",
       "      <td>Manual</td>\n",
       "      <td>0</td>\n",
       "    </tr>\n",
       "    <tr>\n",
       "      <th>4</th>\n",
       "      <td>swift</td>\n",
       "      <td>2014</td>\n",
       "      <td>4.60</td>\n",
       "      <td>6.87</td>\n",
       "      <td>42450</td>\n",
       "      <td>Diesel</td>\n",
       "      <td>Dealer</td>\n",
       "      <td>Manual</td>\n",
       "      <td>0</td>\n",
       "    </tr>\n",
       "  </tbody>\n",
       "</table>\n",
       "</div>"
      ],
      "text/plain": [
       "  Car_Name  Year  Selling_Price  Present_Price  Kms_Driven Fuel_Type  \\\n",
       "0     ritz  2014           3.35           5.59       27000    Petrol   \n",
       "1      sx4  2013           4.75           9.54       43000    Diesel   \n",
       "2     ciaz  2017           7.25           9.85        6900    Petrol   \n",
       "3  wagon r  2011           2.85           4.15        5200    Petrol   \n",
       "4    swift  2014           4.60           6.87       42450    Diesel   \n",
       "\n",
       "  Seller_Type Transmission  Owner  \n",
       "0      Dealer       Manual      0  \n",
       "1      Dealer       Manual      0  \n",
       "2      Dealer       Manual      0  \n",
       "3      Dealer       Manual      0  \n",
       "4      Dealer       Manual      0  "
      ]
     },
     "execution_count": 3,
     "metadata": {},
     "output_type": "execute_result"
    }
   ],
   "source": [
    "dataset = pd.read_csv(path)\n",
    "dataset.head()"
   ]
  },
  {
   "cell_type": "markdown",
   "id": "9d0ef073",
   "metadata": {},
   "source": [
    "## Data preprocessing and Exploratory data analysis."
   ]
  },
  {
   "cell_type": "code",
   "execution_count": 4,
   "id": "640542f8",
   "metadata": {},
   "outputs": [
    {
     "name": "stdout",
     "output_type": "stream",
     "text": [
      "['Petrol' 'Diesel' 'CNG']\n",
      "['Dealer' 'Individual']\n",
      "['Manual' 'Automatic']\n",
      "[0 1 3]\n"
     ]
    }
   ],
   "source": [
    "# see the unique values\n",
    "print(dataset['Fuel_Type'].unique())\n",
    "print(dataset['Seller_Type'].unique())\n",
    "print(dataset['Transmission'].unique())\n",
    "print(dataset['Owner'].unique())"
   ]
  },
  {
   "cell_type": "code",
   "execution_count": 5,
   "id": "42601968",
   "metadata": {},
   "outputs": [
    {
     "data": {
      "text/plain": [
       "Car_Name         0\n",
       "Year             0\n",
       "Selling_Price    0\n",
       "Present_Price    0\n",
       "Kms_Driven       0\n",
       "Fuel_Type        0\n",
       "Seller_Type      0\n",
       "Transmission     0\n",
       "Owner            0\n",
       "dtype: int64"
      ]
     },
     "execution_count": 5,
     "metadata": {},
     "output_type": "execute_result"
    }
   ],
   "source": [
    "# finding null values\n",
    "dataset.isnull().sum()"
   ]
  },
  {
   "cell_type": "code",
   "execution_count": 6,
   "id": "4664ef01",
   "metadata": {},
   "outputs": [],
   "source": [
    "# Car name is not nessesary as it has no effect on price of the car\n",
    "dataset = dataset.drop('Car_Name', axis = 1)"
   ]
  },
  {
   "cell_type": "code",
   "execution_count": 7,
   "id": "e1191bd4",
   "metadata": {},
   "outputs": [
    {
     "data": {
      "text/html": [
       "<div>\n",
       "<style scoped>\n",
       "    .dataframe tbody tr th:only-of-type {\n",
       "        vertical-align: middle;\n",
       "    }\n",
       "\n",
       "    .dataframe tbody tr th {\n",
       "        vertical-align: top;\n",
       "    }\n",
       "\n",
       "    .dataframe thead th {\n",
       "        text-align: right;\n",
       "    }\n",
       "</style>\n",
       "<table border=\"1\" class=\"dataframe\">\n",
       "  <thead>\n",
       "    <tr style=\"text-align: right;\">\n",
       "      <th></th>\n",
       "      <th>Year</th>\n",
       "      <th>Selling_Price</th>\n",
       "      <th>Present_Price</th>\n",
       "      <th>Kms_Driven</th>\n",
       "      <th>Fuel_Type</th>\n",
       "      <th>Seller_Type</th>\n",
       "      <th>Transmission</th>\n",
       "      <th>Owner</th>\n",
       "    </tr>\n",
       "  </thead>\n",
       "  <tbody>\n",
       "    <tr>\n",
       "      <th>0</th>\n",
       "      <td>2014</td>\n",
       "      <td>3.35</td>\n",
       "      <td>5.59</td>\n",
       "      <td>27000</td>\n",
       "      <td>Petrol</td>\n",
       "      <td>Dealer</td>\n",
       "      <td>Manual</td>\n",
       "      <td>0</td>\n",
       "    </tr>\n",
       "    <tr>\n",
       "      <th>1</th>\n",
       "      <td>2013</td>\n",
       "      <td>4.75</td>\n",
       "      <td>9.54</td>\n",
       "      <td>43000</td>\n",
       "      <td>Diesel</td>\n",
       "      <td>Dealer</td>\n",
       "      <td>Manual</td>\n",
       "      <td>0</td>\n",
       "    </tr>\n",
       "    <tr>\n",
       "      <th>2</th>\n",
       "      <td>2017</td>\n",
       "      <td>7.25</td>\n",
       "      <td>9.85</td>\n",
       "      <td>6900</td>\n",
       "      <td>Petrol</td>\n",
       "      <td>Dealer</td>\n",
       "      <td>Manual</td>\n",
       "      <td>0</td>\n",
       "    </tr>\n",
       "    <tr>\n",
       "      <th>3</th>\n",
       "      <td>2011</td>\n",
       "      <td>2.85</td>\n",
       "      <td>4.15</td>\n",
       "      <td>5200</td>\n",
       "      <td>Petrol</td>\n",
       "      <td>Dealer</td>\n",
       "      <td>Manual</td>\n",
       "      <td>0</td>\n",
       "    </tr>\n",
       "    <tr>\n",
       "      <th>4</th>\n",
       "      <td>2014</td>\n",
       "      <td>4.60</td>\n",
       "      <td>6.87</td>\n",
       "      <td>42450</td>\n",
       "      <td>Diesel</td>\n",
       "      <td>Dealer</td>\n",
       "      <td>Manual</td>\n",
       "      <td>0</td>\n",
       "    </tr>\n",
       "  </tbody>\n",
       "</table>\n",
       "</div>"
      ],
      "text/plain": [
       "   Year  Selling_Price  Present_Price  Kms_Driven Fuel_Type Seller_Type  \\\n",
       "0  2014           3.35           5.59       27000    Petrol      Dealer   \n",
       "1  2013           4.75           9.54       43000    Diesel      Dealer   \n",
       "2  2017           7.25           9.85        6900    Petrol      Dealer   \n",
       "3  2011           2.85           4.15        5200    Petrol      Dealer   \n",
       "4  2014           4.60           6.87       42450    Diesel      Dealer   \n",
       "\n",
       "  Transmission  Owner  \n",
       "0       Manual      0  \n",
       "1       Manual      0  \n",
       "2       Manual      0  \n",
       "3       Manual      0  \n",
       "4       Manual      0  "
      ]
     },
     "execution_count": 7,
     "metadata": {},
     "output_type": "execute_result"
    }
   ],
   "source": [
    "dataset.head()"
   ]
  },
  {
   "cell_type": "code",
   "execution_count": 11,
   "id": "99b4393f",
   "metadata": {},
   "outputs": [],
   "source": [
    "# insted of year of the car production it is better to have the age of it. using import datetime to get current year\n",
    "import datetime\n",
    "current_time = datetime.datetime.now()\n",
    "current_year = current_time.year\n",
    "dataset['Car_age'] = current_year - dataset['Year']"
   ]
  },
  {
   "cell_type": "code",
   "execution_count": 12,
   "id": "6f1fde2e",
   "metadata": {},
   "outputs": [
    {
     "data": {
      "text/html": [
       "<div>\n",
       "<style scoped>\n",
       "    .dataframe tbody tr th:only-of-type {\n",
       "        vertical-align: middle;\n",
       "    }\n",
       "\n",
       "    .dataframe tbody tr th {\n",
       "        vertical-align: top;\n",
       "    }\n",
       "\n",
       "    .dataframe thead th {\n",
       "        text-align: right;\n",
       "    }\n",
       "</style>\n",
       "<table border=\"1\" class=\"dataframe\">\n",
       "  <thead>\n",
       "    <tr style=\"text-align: right;\">\n",
       "      <th></th>\n",
       "      <th>Year</th>\n",
       "      <th>Selling_Price</th>\n",
       "      <th>Present_Price</th>\n",
       "      <th>Kms_Driven</th>\n",
       "      <th>Fuel_Type</th>\n",
       "      <th>Seller_Type</th>\n",
       "      <th>Transmission</th>\n",
       "      <th>Owner</th>\n",
       "      <th>Car_age</th>\n",
       "    </tr>\n",
       "  </thead>\n",
       "  <tbody>\n",
       "    <tr>\n",
       "      <th>0</th>\n",
       "      <td>2014</td>\n",
       "      <td>3.35</td>\n",
       "      <td>5.59</td>\n",
       "      <td>27000</td>\n",
       "      <td>Petrol</td>\n",
       "      <td>Dealer</td>\n",
       "      <td>Manual</td>\n",
       "      <td>0</td>\n",
       "      <td>9</td>\n",
       "    </tr>\n",
       "    <tr>\n",
       "      <th>1</th>\n",
       "      <td>2013</td>\n",
       "      <td>4.75</td>\n",
       "      <td>9.54</td>\n",
       "      <td>43000</td>\n",
       "      <td>Diesel</td>\n",
       "      <td>Dealer</td>\n",
       "      <td>Manual</td>\n",
       "      <td>0</td>\n",
       "      <td>10</td>\n",
       "    </tr>\n",
       "    <tr>\n",
       "      <th>2</th>\n",
       "      <td>2017</td>\n",
       "      <td>7.25</td>\n",
       "      <td>9.85</td>\n",
       "      <td>6900</td>\n",
       "      <td>Petrol</td>\n",
       "      <td>Dealer</td>\n",
       "      <td>Manual</td>\n",
       "      <td>0</td>\n",
       "      <td>6</td>\n",
       "    </tr>\n",
       "    <tr>\n",
       "      <th>3</th>\n",
       "      <td>2011</td>\n",
       "      <td>2.85</td>\n",
       "      <td>4.15</td>\n",
       "      <td>5200</td>\n",
       "      <td>Petrol</td>\n",
       "      <td>Dealer</td>\n",
       "      <td>Manual</td>\n",
       "      <td>0</td>\n",
       "      <td>12</td>\n",
       "    </tr>\n",
       "    <tr>\n",
       "      <th>4</th>\n",
       "      <td>2014</td>\n",
       "      <td>4.60</td>\n",
       "      <td>6.87</td>\n",
       "      <td>42450</td>\n",
       "      <td>Diesel</td>\n",
       "      <td>Dealer</td>\n",
       "      <td>Manual</td>\n",
       "      <td>0</td>\n",
       "      <td>9</td>\n",
       "    </tr>\n",
       "  </tbody>\n",
       "</table>\n",
       "</div>"
      ],
      "text/plain": [
       "   Year  Selling_Price  Present_Price  Kms_Driven Fuel_Type Seller_Type  \\\n",
       "0  2014           3.35           5.59       27000    Petrol      Dealer   \n",
       "1  2013           4.75           9.54       43000    Diesel      Dealer   \n",
       "2  2017           7.25           9.85        6900    Petrol      Dealer   \n",
       "3  2011           2.85           4.15        5200    Petrol      Dealer   \n",
       "4  2014           4.60           6.87       42450    Diesel      Dealer   \n",
       "\n",
       "  Transmission  Owner  Car_age  \n",
       "0       Manual      0        9  \n",
       "1       Manual      0       10  \n",
       "2       Manual      0        6  \n",
       "3       Manual      0       12  \n",
       "4       Manual      0        9  "
      ]
     },
     "execution_count": 12,
     "metadata": {},
     "output_type": "execute_result"
    }
   ],
   "source": [
    "dataset.head()"
   ]
  },
  {
   "cell_type": "code",
   "execution_count": 13,
   "id": "a8f2b985",
   "metadata": {},
   "outputs": [
    {
     "data": {
      "text/html": [
       "<div>\n",
       "<style scoped>\n",
       "    .dataframe tbody tr th:only-of-type {\n",
       "        vertical-align: middle;\n",
       "    }\n",
       "\n",
       "    .dataframe tbody tr th {\n",
       "        vertical-align: top;\n",
       "    }\n",
       "\n",
       "    .dataframe thead th {\n",
       "        text-align: right;\n",
       "    }\n",
       "</style>\n",
       "<table border=\"1\" class=\"dataframe\">\n",
       "  <thead>\n",
       "    <tr style=\"text-align: right;\">\n",
       "      <th></th>\n",
       "      <th>Selling_Price</th>\n",
       "      <th>Present_Price</th>\n",
       "      <th>Kms_Driven</th>\n",
       "      <th>Fuel_Type</th>\n",
       "      <th>Seller_Type</th>\n",
       "      <th>Transmission</th>\n",
       "      <th>Owner</th>\n",
       "      <th>Car_age</th>\n",
       "    </tr>\n",
       "  </thead>\n",
       "  <tbody>\n",
       "    <tr>\n",
       "      <th>0</th>\n",
       "      <td>3.35</td>\n",
       "      <td>5.59</td>\n",
       "      <td>27000</td>\n",
       "      <td>Petrol</td>\n",
       "      <td>Dealer</td>\n",
       "      <td>Manual</td>\n",
       "      <td>0</td>\n",
       "      <td>9</td>\n",
       "    </tr>\n",
       "    <tr>\n",
       "      <th>1</th>\n",
       "      <td>4.75</td>\n",
       "      <td>9.54</td>\n",
       "      <td>43000</td>\n",
       "      <td>Diesel</td>\n",
       "      <td>Dealer</td>\n",
       "      <td>Manual</td>\n",
       "      <td>0</td>\n",
       "      <td>10</td>\n",
       "    </tr>\n",
       "    <tr>\n",
       "      <th>2</th>\n",
       "      <td>7.25</td>\n",
       "      <td>9.85</td>\n",
       "      <td>6900</td>\n",
       "      <td>Petrol</td>\n",
       "      <td>Dealer</td>\n",
       "      <td>Manual</td>\n",
       "      <td>0</td>\n",
       "      <td>6</td>\n",
       "    </tr>\n",
       "    <tr>\n",
       "      <th>3</th>\n",
       "      <td>2.85</td>\n",
       "      <td>4.15</td>\n",
       "      <td>5200</td>\n",
       "      <td>Petrol</td>\n",
       "      <td>Dealer</td>\n",
       "      <td>Manual</td>\n",
       "      <td>0</td>\n",
       "      <td>12</td>\n",
       "    </tr>\n",
       "    <tr>\n",
       "      <th>4</th>\n",
       "      <td>4.60</td>\n",
       "      <td>6.87</td>\n",
       "      <td>42450</td>\n",
       "      <td>Diesel</td>\n",
       "      <td>Dealer</td>\n",
       "      <td>Manual</td>\n",
       "      <td>0</td>\n",
       "      <td>9</td>\n",
       "    </tr>\n",
       "  </tbody>\n",
       "</table>\n",
       "</div>"
      ],
      "text/plain": [
       "   Selling_Price  Present_Price  Kms_Driven Fuel_Type Seller_Type  \\\n",
       "0           3.35           5.59       27000    Petrol      Dealer   \n",
       "1           4.75           9.54       43000    Diesel      Dealer   \n",
       "2           7.25           9.85        6900    Petrol      Dealer   \n",
       "3           2.85           4.15        5200    Petrol      Dealer   \n",
       "4           4.60           6.87       42450    Diesel      Dealer   \n",
       "\n",
       "  Transmission  Owner  Car_age  \n",
       "0       Manual      0        9  \n",
       "1       Manual      0       10  \n",
       "2       Manual      0        6  \n",
       "3       Manual      0       12  \n",
       "4       Manual      0        9  "
      ]
     },
     "execution_count": 13,
     "metadata": {},
     "output_type": "execute_result"
    }
   ],
   "source": [
    "# know we do not need Year column\n",
    "dataset = dataset.drop('Year', axis = 1)\n",
    "dataset.head()"
   ]
  },
  {
   "cell_type": "markdown",
   "id": "192db807",
   "metadata": {},
   "source": [
    "### Let's see the relation between indipendent variables and dependent one which is 'Selling_Price'"
   ]
  },
  {
   "cell_type": "markdown",
   "id": "f6574f9d",
   "metadata": {},
   "source": [
    "**Selling_Price VS Present_Price**"
   ]
  },
  {
   "cell_type": "code",
   "execution_count": 14,
   "id": "a938f814",
   "metadata": {},
   "outputs": [
    {
     "data": {
      "image/png": "[encoded data removed]",
      "text/plain": [
       "<Figure size 640x480 with 1 Axes>"
      ]
     },
     "metadata": {},
     "output_type": "display_data"
    }
   ],
   "source": [
    "sns.scatterplot(x = 'Present_Price', y = 'Selling_Price', data = dataset).set_title('Selling_Price VS Present_Price');"
   ]
  },
  {
   "cell_type": "markdown",
   "id": "cc011ca5",
   "metadata": {},
   "source": [
    "The scatter plot displays the rise in selling price in relation to the current price. Nonetheless, there are certain cars whose price is comparatively lower than others with a similar current price. Hence, there must be additional factors influencing the selling price."
   ]
  },
  {
   "cell_type": "markdown",
   "id": "f571fcf1",
   "metadata": {},
   "source": [
    "**Selling_Price VS Kms_Driven**"
   ]
  },
  {
   "cell_type": "code",
   "execution_count": 15,
   "id": "7da4d8d0",
   "metadata": {
    "scrolled": false
   },
   "outputs": [
    {
     "data": {
      "image/png": "[encoded data removed]",
      "text/plain": [
       "<Figure size 640x480 with 1 Axes>"
      ]
     },
     "metadata": {},
     "output_type": "display_data"
    }
   ],
   "source": [
    "sns.scatterplot(x = 'Kms_Driven', y = 'Selling_Price', data = dataset).set_title('Selling_Price VS Kms_Driven');"
   ]
  },
  {
   "cell_type": "markdown",
   "id": "37a750df",
   "metadata": {},
   "source": [
    "There appears to be no specific correlation between the `selling price` and `kms_Driven`, as observed."
   ]
  },
  {
   "cell_type": "markdown",
   "id": "0e14e000",
   "metadata": {},
   "source": [
    "**Selling_Price VS Fuel_Type**"
   ]
  },
  {
   "cell_type": "code",
   "execution_count": 16,
   "id": "deae0891",
   "metadata": {},
   "outputs": [
    {
     "data": {
      "image/png": "[encoded data removed]",
      "text/plain": [
       "<Figure size 640x480 with 1 Axes>"
      ]
     },
     "metadata": {},
     "output_type": "display_data"
    }
   ],
   "source": [
    "sns.boxplot(x = 'Fuel_Type', y = 'Selling_Price', data = dataset).set_title('Selling_Price VS Fuel_Type');"
   ]
  },
  {
   "cell_type": "markdown",
   "id": "56463de1",
   "metadata": {},
   "source": [
    "The plot indicates that cars fueled by `diesel` tend to have higher selling prices. It is important to take into account the limited number of car samples with CNG fuel type in this dataset."
   ]
  },
  {
   "cell_type": "markdown",
   "id": "0a5545d1",
   "metadata": {},
   "source": [
    "**Selling_Price VS Seller_Type**"
   ]
  },
  {
   "cell_type": "code",
   "execution_count": 17,
   "id": "c3973b4e",
   "metadata": {},
   "outputs": [
    {
     "data": {
      "image/png": "[encoded data removed]",
      "text/plain": [
       "<Figure size 640x480 with 1 Axes>"
      ]
     },
     "metadata": {},
     "output_type": "display_data"
    }
   ],
   "source": [
    "sns.boxplot(x = 'Seller_Type', y = 'Selling_Price', data = dataset).set_title('Selling_Price VS Seller_Type');"
   ]
  },
  {
   "cell_type": "markdown",
   "id": "327f8613",
   "metadata": {},
   "source": [
    "We can observe the impact of the seller type on the selling price, which suggests that cars sold by a \"Dealer\" generally fetch higher selling prices."
   ]
  },
  {
   "cell_type": "markdown",
   "id": "3cf2a640",
   "metadata": {},
   "source": [
    "**Selling_Price VS Transmission**\n"
   ]
  },
  {
   "cell_type": "code",
   "execution_count": 18,
   "id": "8cf96da9",
   "metadata": {},
   "outputs": [
    {
     "data": {
      "image/png": "[encoded data removed]",
      "text/plain": [
       "<Figure size 640x480 with 1 Axes>"
      ]
     },
     "metadata": {},
     "output_type": "display_data"
    }
   ],
   "source": [
    "sns.boxplot(x = 'Transmission', y = 'Selling_Price', data = dataset).set_title('Selling_Price VS Transmission');"
   ]
  },
  {
   "cell_type": "markdown",
   "id": "758ea5ce",
   "metadata": {},
   "source": [
    "The presented plot demonstrates the influence of the transmission type on the selling price. It is evident that cars equipped with automatic transmission tend to be more expensive compared to those with manual transmission. Nevertheless, there are instances where some cars with manual transmission command higher selling prices."
   ]
  },
  {
   "cell_type": "markdown",
   "id": "43279043",
   "metadata": {},
   "source": [
    "**Selling_Price VS Owner**"
   ]
  },
  {
   "cell_type": "code",
   "execution_count": 19,
   "id": "3166503d",
   "metadata": {},
   "outputs": [
    {
     "data": {
      "image/png": "[encoded data removed]",
      "text/plain": [
       "<Figure size 640x480 with 1 Axes>"
      ]
     },
     "metadata": {},
     "output_type": "display_data"
    }
   ],
   "source": [
    "sns.boxplot(x = 'Owner', y = 'Selling_Price', data = dataset).set_title('Selling_Price VS Owner');"
   ]
  },
  {
   "cell_type": "markdown",
   "id": "e0341b87",
   "metadata": {},
   "source": [
    "The graph illustrates that the selling price typically declines as the number of previous owners increases."
   ]
  },
  {
   "cell_type": "markdown",
   "id": "27307110",
   "metadata": {},
   "source": [
    "**Selling_Price VS Car_age**"
   ]
  },
  {
   "cell_type": "code",
   "execution_count": 20,
   "id": "ed49c431",
   "metadata": {},
   "outputs": [
    {
     "data": {
      "image/png": "[encoded data removed]",
      "text/plain": [
       "<Figure size 640x480 with 1 Axes>"
      ]
     },
     "metadata": {},
     "output_type": "display_data"
    }
   ],
   "source": [
    "sns.boxplot(x = 'Car_age',  y = 'Selling_Price', data = dataset).set_title('Selling_Price VS Car_age');"
   ]
  },
  {
   "cell_type": "markdown",
   "id": "39f1daf5",
   "metadata": {},
   "source": [
    "The last graph demonstrates that the selling price frequently decreases as the age of the car increases."
   ]
  },
  {
   "cell_type": "code",
   "execution_count": 21,
   "id": "fa37da81",
   "metadata": {},
   "outputs": [
    {
     "data": {
      "text/html": [
       "<div>\n",
       "<style scoped>\n",
       "    .dataframe tbody tr th:only-of-type {\n",
       "        vertical-align: middle;\n",
       "    }\n",
       "\n",
       "    .dataframe tbody tr th {\n",
       "        vertical-align: top;\n",
       "    }\n",
       "\n",
       "    .dataframe thead th {\n",
       "        text-align: right;\n",
       "    }\n",
       "</style>\n",
       "<table border=\"1\" class=\"dataframe\">\n",
       "  <thead>\n",
       "    <tr style=\"text-align: right;\">\n",
       "      <th></th>\n",
       "      <th>Selling_Price</th>\n",
       "      <th>Present_Price</th>\n",
       "      <th>Kms_Driven</th>\n",
       "      <th>Fuel_Type</th>\n",
       "      <th>Seller_Type</th>\n",
       "      <th>Transmission</th>\n",
       "      <th>Owner</th>\n",
       "      <th>Car_age</th>\n",
       "    </tr>\n",
       "  </thead>\n",
       "  <tbody>\n",
       "    <tr>\n",
       "      <th>0</th>\n",
       "      <td>3.35</td>\n",
       "      <td>5.59</td>\n",
       "      <td>27000</td>\n",
       "      <td>Petrol</td>\n",
       "      <td>Dealer</td>\n",
       "      <td>Manual</td>\n",
       "      <td>0</td>\n",
       "      <td>9</td>\n",
       "    </tr>\n",
       "    <tr>\n",
       "      <th>1</th>\n",
       "      <td>4.75</td>\n",
       "      <td>9.54</td>\n",
       "      <td>43000</td>\n",
       "      <td>Diesel</td>\n",
       "      <td>Dealer</td>\n",
       "      <td>Manual</td>\n",
       "      <td>0</td>\n",
       "      <td>10</td>\n",
       "    </tr>\n",
       "    <tr>\n",
       "      <th>2</th>\n",
       "      <td>7.25</td>\n",
       "      <td>9.85</td>\n",
       "      <td>6900</td>\n",
       "      <td>Petrol</td>\n",
       "      <td>Dealer</td>\n",
       "      <td>Manual</td>\n",
       "      <td>0</td>\n",
       "      <td>6</td>\n",
       "    </tr>\n",
       "    <tr>\n",
       "      <th>3</th>\n",
       "      <td>2.85</td>\n",
       "      <td>4.15</td>\n",
       "      <td>5200</td>\n",
       "      <td>Petrol</td>\n",
       "      <td>Dealer</td>\n",
       "      <td>Manual</td>\n",
       "      <td>0</td>\n",
       "      <td>12</td>\n",
       "    </tr>\n",
       "    <tr>\n",
       "      <th>4</th>\n",
       "      <td>4.60</td>\n",
       "      <td>6.87</td>\n",
       "      <td>42450</td>\n",
       "      <td>Diesel</td>\n",
       "      <td>Dealer</td>\n",
       "      <td>Manual</td>\n",
       "      <td>0</td>\n",
       "      <td>9</td>\n",
       "    </tr>\n",
       "    <tr>\n",
       "      <th>...</th>\n",
       "      <td>...</td>\n",
       "      <td>...</td>\n",
       "      <td>...</td>\n",
       "      <td>...</td>\n",
       "      <td>...</td>\n",
       "      <td>...</td>\n",
       "      <td>...</td>\n",
       "      <td>...</td>\n",
       "    </tr>\n",
       "    <tr>\n",
       "      <th>296</th>\n",
       "      <td>9.50</td>\n",
       "      <td>11.60</td>\n",
       "      <td>33988</td>\n",
       "      <td>Diesel</td>\n",
       "      <td>Dealer</td>\n",
       "      <td>Manual</td>\n",
       "      <td>0</td>\n",
       "      <td>7</td>\n",
       "    </tr>\n",
       "    <tr>\n",
       "      <th>297</th>\n",
       "      <td>4.00</td>\n",
       "      <td>5.90</td>\n",
       "      <td>60000</td>\n",
       "      <td>Petrol</td>\n",
       "      <td>Dealer</td>\n",
       "      <td>Manual</td>\n",
       "      <td>0</td>\n",
       "      <td>8</td>\n",
       "    </tr>\n",
       "    <tr>\n",
       "      <th>298</th>\n",
       "      <td>3.35</td>\n",
       "      <td>11.00</td>\n",
       "      <td>87934</td>\n",
       "      <td>Petrol</td>\n",
       "      <td>Dealer</td>\n",
       "      <td>Manual</td>\n",
       "      <td>0</td>\n",
       "      <td>14</td>\n",
       "    </tr>\n",
       "    <tr>\n",
       "      <th>299</th>\n",
       "      <td>11.50</td>\n",
       "      <td>12.50</td>\n",
       "      <td>9000</td>\n",
       "      <td>Diesel</td>\n",
       "      <td>Dealer</td>\n",
       "      <td>Manual</td>\n",
       "      <td>0</td>\n",
       "      <td>6</td>\n",
       "    </tr>\n",
       "    <tr>\n",
       "      <th>300</th>\n",
       "      <td>5.30</td>\n",
       "      <td>5.90</td>\n",
       "      <td>5464</td>\n",
       "      <td>Petrol</td>\n",
       "      <td>Dealer</td>\n",
       "      <td>Manual</td>\n",
       "      <td>0</td>\n",
       "      <td>7</td>\n",
       "    </tr>\n",
       "  </tbody>\n",
       "</table>\n",
       "<p>301 rows × 8 columns</p>\n",
       "</div>"
      ],
      "text/plain": [
       "     Selling_Price  Present_Price  Kms_Driven Fuel_Type Seller_Type  \\\n",
       "0             3.35           5.59       27000    Petrol      Dealer   \n",
       "1             4.75           9.54       43000    Diesel      Dealer   \n",
       "2             7.25           9.85        6900    Petrol      Dealer   \n",
       "3             2.85           4.15        5200    Petrol      Dealer   \n",
       "4             4.60           6.87       42450    Diesel      Dealer   \n",
       "..             ...            ...         ...       ...         ...   \n",
       "296           9.50          11.60       33988    Diesel      Dealer   \n",
       "297           4.00           5.90       60000    Petrol      Dealer   \n",
       "298           3.35          11.00       87934    Petrol      Dealer   \n",
       "299          11.50          12.50        9000    Diesel      Dealer   \n",
       "300           5.30           5.90        5464    Petrol      Dealer   \n",
       "\n",
       "    Transmission  Owner  Car_age  \n",
       "0         Manual      0        9  \n",
       "1         Manual      0       10  \n",
       "2         Manual      0        6  \n",
       "3         Manual      0       12  \n",
       "4         Manual      0        9  \n",
       "..           ...    ...      ...  \n",
       "296       Manual      0        7  \n",
       "297       Manual      0        8  \n",
       "298       Manual      0       14  \n",
       "299       Manual      0        6  \n",
       "300       Manual      0        7  \n",
       "\n",
       "[301 rows x 8 columns]"
      ]
     },
     "execution_count": 21,
     "metadata": {},
     "output_type": "execute_result"
    }
   ],
   "source": [
    "dataset"
   ]
  },
  {
   "cell_type": "code",
   "execution_count": 26,
   "id": "eebd77d8",
   "metadata": {},
   "outputs": [],
   "source": [
    "# creat a class to plot corrilation and do onehot_encoding for given dataset\n",
    "class manual_functions():\n",
    "    def __init__(self, dataset):\n",
    "        \n",
    "        self.dataset = dataset\n",
    "        \n",
    "    def corrilation(self):\n",
    "        from sklearn.preprocessing import LabelEncoder\n",
    "        global dataset\n",
    "        cat_col = [c for i, c in enumerate(dataset.columns) if dataset.dtypes[i] in [object]]\n",
    "        if len(cat_col) > 0:\n",
    "            new_dataset = dataset.copy()\n",
    "            for feature in cat_col:\n",
    "                le = LabelEncoder()\n",
    "                label = le.fit_transform(new_dataset[feature])\n",
    "                new_dataset.drop([feature], axis=1, inplace=True)\n",
    "                new_dataset[feature] = label\n",
    "\n",
    "            plt.figure(figsize = (15, 15))\n",
    "            g= sns.heatmap(new_dataset.corr(),annot=True, )\n",
    "        else:\n",
    "            plt.figure(figsize = (15, 15))\n",
    "            g= sns.heatmap(new_dataset.corr(),annot=True, )\n",
    "\n",
    "    def onehot_encoding(self):\n",
    "        global dataset\n",
    "        cat_col = [c for i, c in enumerate(dataset.columns) if dataset.dtypes[i] in [object]]\n",
    "        for cat_features in cat_col:\n",
    "            dataset = pd.get_dummies(dataset, columns = [cat_features])\n",
    "        return dataset"
   ]
  },
  {
   "cell_type": "code",
   "execution_count": 27,
   "id": "7b42d8e5",
   "metadata": {
    "scrolled": false
   },
   "outputs": [
    {
     "data": {
      "image/png": "[encoded data removed]",
      "text/plain": [
       "<Figure size 1500x1500 with 2 Axes>"
      ]
     },
     "metadata": {},
     "output_type": "display_data"
    }
   ],
   "source": [
    "manual_functions.corrilation(dataset)"
   ]
  },
  {
   "cell_type": "markdown",
   "id": "2fef2a6e",
   "metadata": {},
   "source": [
    "In this corelation matrix heatmap, we can see that the present price has highest corrilation with selling price."
   ]
  },
  {
   "cell_type": "code",
   "execution_count": 28,
   "id": "7399c39f",
   "metadata": {},
   "outputs": [
    {
     "data": {
      "text/html": [
       "<div>\n",
       "<style scoped>\n",
       "    .dataframe tbody tr th:only-of-type {\n",
       "        vertical-align: middle;\n",
       "    }\n",
       "\n",
       "    .dataframe tbody tr th {\n",
       "        vertical-align: top;\n",
       "    }\n",
       "\n",
       "    .dataframe thead th {\n",
       "        text-align: right;\n",
       "    }\n",
       "</style>\n",
       "<table border=\"1\" class=\"dataframe\">\n",
       "  <thead>\n",
       "    <tr style=\"text-align: right;\">\n",
       "      <th></th>\n",
       "      <th>Selling_Price</th>\n",
       "      <th>Present_Price</th>\n",
       "      <th>Kms_Driven</th>\n",
       "      <th>Owner</th>\n",
       "      <th>Car_age</th>\n",
       "      <th>Fuel_Type_CNG</th>\n",
       "      <th>Fuel_Type_Diesel</th>\n",
       "      <th>Fuel_Type_Petrol</th>\n",
       "      <th>Seller_Type_Dealer</th>\n",
       "      <th>Seller_Type_Individual</th>\n",
       "      <th>Transmission_Automatic</th>\n",
       "      <th>Transmission_Manual</th>\n",
       "    </tr>\n",
       "  </thead>\n",
       "  <tbody>\n",
       "    <tr>\n",
       "      <th>0</th>\n",
       "      <td>3.35</td>\n",
       "      <td>5.59</td>\n",
       "      <td>27000</td>\n",
       "      <td>0</td>\n",
       "      <td>9</td>\n",
       "      <td>0</td>\n",
       "      <td>0</td>\n",
       "      <td>1</td>\n",
       "      <td>1</td>\n",
       "      <td>0</td>\n",
       "      <td>0</td>\n",
       "      <td>1</td>\n",
       "    </tr>\n",
       "    <tr>\n",
       "      <th>1</th>\n",
       "      <td>4.75</td>\n",
       "      <td>9.54</td>\n",
       "      <td>43000</td>\n",
       "      <td>0</td>\n",
       "      <td>10</td>\n",
       "      <td>0</td>\n",
       "      <td>1</td>\n",
       "      <td>0</td>\n",
       "      <td>1</td>\n",
       "      <td>0</td>\n",
       "      <td>0</td>\n",
       "      <td>1</td>\n",
       "    </tr>\n",
       "    <tr>\n",
       "      <th>2</th>\n",
       "      <td>7.25</td>\n",
       "      <td>9.85</td>\n",
       "      <td>6900</td>\n",
       "      <td>0</td>\n",
       "      <td>6</td>\n",
       "      <td>0</td>\n",
       "      <td>0</td>\n",
       "      <td>1</td>\n",
       "      <td>1</td>\n",
       "      <td>0</td>\n",
       "      <td>0</td>\n",
       "      <td>1</td>\n",
       "    </tr>\n",
       "    <tr>\n",
       "      <th>3</th>\n",
       "      <td>2.85</td>\n",
       "      <td>4.15</td>\n",
       "      <td>5200</td>\n",
       "      <td>0</td>\n",
       "      <td>12</td>\n",
       "      <td>0</td>\n",
       "      <td>0</td>\n",
       "      <td>1</td>\n",
       "      <td>1</td>\n",
       "      <td>0</td>\n",
       "      <td>0</td>\n",
       "      <td>1</td>\n",
       "    </tr>\n",
       "    <tr>\n",
       "      <th>4</th>\n",
       "      <td>4.60</td>\n",
       "      <td>6.87</td>\n",
       "      <td>42450</td>\n",
       "      <td>0</td>\n",
       "      <td>9</td>\n",
       "      <td>0</td>\n",
       "      <td>1</td>\n",
       "      <td>0</td>\n",
       "      <td>1</td>\n",
       "      <td>0</td>\n",
       "      <td>0</td>\n",
       "      <td>1</td>\n",
       "    </tr>\n",
       "    <tr>\n",
       "      <th>...</th>\n",
       "      <td>...</td>\n",
       "      <td>...</td>\n",
       "      <td>...</td>\n",
       "      <td>...</td>\n",
       "      <td>...</td>\n",
       "      <td>...</td>\n",
       "      <td>...</td>\n",
       "      <td>...</td>\n",
       "      <td>...</td>\n",
       "      <td>...</td>\n",
       "      <td>...</td>\n",
       "      <td>...</td>\n",
       "    </tr>\n",
       "    <tr>\n",
       "      <th>296</th>\n",
       "      <td>9.50</td>\n",
       "      <td>11.60</td>\n",
       "      <td>33988</td>\n",
       "      <td>0</td>\n",
       "      <td>7</td>\n",
       "      <td>0</td>\n",
       "      <td>1</td>\n",
       "      <td>0</td>\n",
       "      <td>1</td>\n",
       "      <td>0</td>\n",
       "      <td>0</td>\n",
       "      <td>1</td>\n",
       "    </tr>\n",
       "    <tr>\n",
       "      <th>297</th>\n",
       "      <td>4.00</td>\n",
       "      <td>5.90</td>\n",
       "      <td>60000</td>\n",
       "      <td>0</td>\n",
       "      <td>8</td>\n",
       "      <td>0</td>\n",
       "      <td>0</td>\n",
       "      <td>1</td>\n",
       "      <td>1</td>\n",
       "      <td>0</td>\n",
       "      <td>0</td>\n",
       "      <td>1</td>\n",
       "    </tr>\n",
       "    <tr>\n",
       "      <th>298</th>\n",
       "      <td>3.35</td>\n",
       "      <td>11.00</td>\n",
       "      <td>87934</td>\n",
       "      <td>0</td>\n",
       "      <td>14</td>\n",
       "      <td>0</td>\n",
       "      <td>0</td>\n",
       "      <td>1</td>\n",
       "      <td>1</td>\n",
       "      <td>0</td>\n",
       "      <td>0</td>\n",
       "      <td>1</td>\n",
       "    </tr>\n",
       "    <tr>\n",
       "      <th>299</th>\n",
       "      <td>11.50</td>\n",
       "      <td>12.50</td>\n",
       "      <td>9000</td>\n",
       "      <td>0</td>\n",
       "      <td>6</td>\n",
       "      <td>0</td>\n",
       "      <td>1</td>\n",
       "      <td>0</td>\n",
       "      <td>1</td>\n",
       "      <td>0</td>\n",
       "      <td>0</td>\n",
       "      <td>1</td>\n",
       "    </tr>\n",
       "    <tr>\n",
       "      <th>300</th>\n",
       "      <td>5.30</td>\n",
       "      <td>5.90</td>\n",
       "      <td>5464</td>\n",
       "      <td>0</td>\n",
       "      <td>7</td>\n",
       "      <td>0</td>\n",
       "      <td>0</td>\n",
       "      <td>1</td>\n",
       "      <td>1</td>\n",
       "      <td>0</td>\n",
       "      <td>0</td>\n",
       "      <td>1</td>\n",
       "    </tr>\n",
       "  </tbody>\n",
       "</table>\n",
       "<p>301 rows × 12 columns</p>\n",
       "</div>"
      ],
      "text/plain": [
       "     Selling_Price  Present_Price  Kms_Driven  Owner  Car_age  Fuel_Type_CNG  \\\n",
       "0             3.35           5.59       27000      0        9              0   \n",
       "1             4.75           9.54       43000      0       10              0   \n",
       "2             7.25           9.85        6900      0        6              0   \n",
       "3             2.85           4.15        5200      0       12              0   \n",
       "4             4.60           6.87       42450      0        9              0   \n",
       "..             ...            ...         ...    ...      ...            ...   \n",
       "296           9.50          11.60       33988      0        7              0   \n",
       "297           4.00           5.90       60000      0        8              0   \n",
       "298           3.35          11.00       87934      0       14              0   \n",
       "299          11.50          12.50        9000      0        6              0   \n",
       "300           5.30           5.90        5464      0        7              0   \n",
       "\n",
       "     Fuel_Type_Diesel  Fuel_Type_Petrol  Seller_Type_Dealer  \\\n",
       "0                   0                 1                   1   \n",
       "1                   1                 0                   1   \n",
       "2                   0                 1                   1   \n",
       "3                   0                 1                   1   \n",
       "4                   1                 0                   1   \n",
       "..                ...               ...                 ...   \n",
       "296                 1                 0                   1   \n",
       "297                 0                 1                   1   \n",
       "298                 0                 1                   1   \n",
       "299                 1                 0                   1   \n",
       "300                 0                 1                   1   \n",
       "\n",
       "     Seller_Type_Individual  Transmission_Automatic  Transmission_Manual  \n",
       "0                         0                       0                    1  \n",
       "1                         0                       0                    1  \n",
       "2                         0                       0                    1  \n",
       "3                         0                       0                    1  \n",
       "4                         0                       0                    1  \n",
       "..                      ...                     ...                  ...  \n",
       "296                       0                       0                    1  \n",
       "297                       0                       0                    1  \n",
       "298                       0                       0                    1  \n",
       "299                       0                       0                    1  \n",
       "300                       0                       0                    1  \n",
       "\n",
       "[301 rows x 12 columns]"
      ]
     },
     "execution_count": 28,
     "metadata": {},
     "output_type": "execute_result"
    }
   ],
   "source": [
    "# onehot encoding \n",
    "manual_functions.onehot_encoding(dataset)"
   ]
  },
  {
   "cell_type": "code",
   "execution_count": 29,
   "id": "c4efda90",
   "metadata": {},
   "outputs": [
    {
     "name": "stdout",
     "output_type": "stream",
     "text": [
      "(301, 11) (301,)\n"
     ]
    }
   ],
   "source": [
    "# here we need to detemine the y or target\n",
    "target = dataset['Selling_Price']\n",
    "X = dataset.drop('Selling_Price', axis = 1)\n",
    "\n",
    "print(X.shape, target.shape)"
   ]
  },
  {
   "cell_type": "markdown",
   "id": "05420942",
   "metadata": {},
   "source": [
    "**Feature Importance**\n",
    "\n",
    "Feature importance is a feature selection technique usually use for larg dataset. However our dataset is a small dataset we are goting to it anyway just to show the importance of features and are not going to implement it on out model."
   ]
  },
  {
   "cell_type": "code",
   "execution_count": 30,
   "id": "060f12d8",
   "metadata": {},
   "outputs": [
    {
     "data": {
      "text/html": [
       "<style>#sk-container-id-1 {color: black;background-color: white;}#sk-container-id-1 pre{padding: 0;}#sk-container-id-1 div.sk-toggleable {background-color: white;}#sk-container-id-1 label.sk-toggleable__label {cursor: pointer;display: block;width: 100%;margin-bottom: 0;padding: 0.3em;box-sizing: border-box;text-align: center;}#sk-container-id-1 label.sk-toggleable__label-arrow:before {content: \"▸\";float: left;margin-right: 0.25em;color: #696969;}#sk-container-id-1 label.sk-toggleable__label-arrow:hover:before {color: black;}#sk-container-id-1 div.sk-estimator:hover label.sk-toggleable__label-arrow:before {color: black;}#sk-container-id-1 div.sk-toggleable__content {max-height: 0;max-width: 0;overflow: hidden;text-align: left;background-color: #f0f8ff;}#sk-container-id-1 div.sk-toggleable__content pre {margin: 0.2em;color: black;border-radius: 0.25em;background-color: #f0f8ff;}#sk-container-id-1 input.sk-toggleable__control:checked~div.sk-toggleable__content {max-height: 200px;max-width: 100%;overflow: auto;}#sk-container-id-1 input.sk-toggleable__control:checked~label.sk-toggleable__label-arrow:before {content: \"▾\";}#sk-container-id-1 div.sk-estimator input.sk-toggleable__control:checked~label.sk-toggleable__label {background-color: #d4ebff;}#sk-container-id-1 div.sk-label input.sk-toggleable__control:checked~label.sk-toggleable__label {background-color: #d4ebff;}#sk-container-id-1 input.sk-hidden--visually {border: 0;clip: rect(1px 1px 1px 1px);clip: rect(1px, 1px, 1px, 1px);height: 1px;margin: -1px;overflow: hidden;padding: 0;position: absolute;width: 1px;}#sk-container-id-1 div.sk-estimator {font-family: monospace;background-color: #f0f8ff;border: 1px dotted black;border-radius: 0.25em;box-sizing: border-box;margin-bottom: 0.5em;}#sk-container-id-1 div.sk-estimator:hover {background-color: #d4ebff;}#sk-container-id-1 div.sk-parallel-item::after {content: \"\";width: 100%;border-bottom: 1px solid gray;flex-grow: 1;}#sk-container-id-1 div.sk-label:hover label.sk-toggleable__label {background-color: #d4ebff;}#sk-container-id-1 div.sk-serial::before {content: \"\";position: absolute;border-left: 1px solid gray;box-sizing: border-box;top: 0;bottom: 0;left: 50%;z-index: 0;}#sk-container-id-1 div.sk-serial {display: flex;flex-direction: column;align-items: center;background-color: white;padding-right: 0.2em;padding-left: 0.2em;position: relative;}#sk-container-id-1 div.sk-item {position: relative;z-index: 1;}#sk-container-id-1 div.sk-parallel {display: flex;align-items: stretch;justify-content: center;background-color: white;position: relative;}#sk-container-id-1 div.sk-item::before, #sk-container-id-1 div.sk-parallel-item::before {content: \"\";position: absolute;border-left: 1px solid gray;box-sizing: border-box;top: 0;bottom: 0;left: 50%;z-index: -1;}#sk-container-id-1 div.sk-parallel-item {display: flex;flex-direction: column;z-index: 1;position: relative;background-color: white;}#sk-container-id-1 div.sk-parallel-item:first-child::after {align-self: flex-end;width: 50%;}#sk-container-id-1 div.sk-parallel-item:last-child::after {align-self: flex-start;width: 50%;}#sk-container-id-1 div.sk-parallel-item:only-child::after {width: 0;}#sk-container-id-1 div.sk-dashed-wrapped {border: 1px dashed gray;margin: 0 0.4em 0.5em 0.4em;box-sizing: border-box;padding-bottom: 0.4em;background-color: white;}#sk-container-id-1 div.sk-label label {font-family: monospace;font-weight: bold;display: inline-block;line-height: 1.2em;}#sk-container-id-1 div.sk-label-container {text-align: center;}#sk-container-id-1 div.sk-container {/* jupyter's `normalize.less` sets `[hidden] { display: none; }` but bootstrap.min.css set `[hidden] { display: none !important; }` so we also need the `!important` here to be able to override the default hidden behavior on the sphinx rendered scikit-learn.org. See: https://github.com/scikit-learn/scikit-learn/issues/21755 */display: inline-block !important;position: relative;}#sk-container-id-1 div.sk-text-repr-fallback {display: none;}</style><div id=\"sk-container-id-1\" class=\"sk-top-container\"><div class=\"sk-text-repr-fallback\"><pre>ExtraTreesRegressor()</pre><b>In a Jupyter environment, please rerun this cell to show the HTML representation or trust the notebook. <br />On GitHub, the HTML representation is unable to render, please try loading this page with nbviewer.org.</b></div><div class=\"sk-container\" hidden><div class=\"sk-item\"><div class=\"sk-estimator sk-toggleable\"><input class=\"sk-toggleable__control sk-hidden--visually\" id=\"sk-estimator-id-1\" type=\"checkbox\" checked><label for=\"sk-estimator-id-1\" class=\"sk-toggleable__label sk-toggleable__label-arrow\">ExtraTreesRegressor</label><div class=\"sk-toggleable__content\"><pre>ExtraTreesRegressor()</pre></div></div></div></div></div>"
      ],
      "text/plain": [
       "ExtraTreesRegressor()"
      ]
     },
     "execution_count": 30,
     "metadata": {},
     "output_type": "execute_result"
    }
   ],
   "source": [
    "from sklearn.ensemble import ExtraTreesRegressor\n",
    "model = ExtraTreesRegressor()\n",
    "model.fit(X,target)"
   ]
  },
  {
   "cell_type": "code",
   "execution_count": 31,
   "id": "83b8d5b3",
   "metadata": {},
   "outputs": [
    {
     "name": "stdout",
     "output_type": "stream",
     "text": [
      "[3.23726240e-01 3.64512971e-02 4.70093518e-04 7.83290823e-02\n",
      " 9.38298797e-05 2.56821706e-01 8.78417882e-03 1.36674032e-01\n",
      " 5.44067201e-04 6.62484185e-02 9.18570550e-02]\n"
     ]
    }
   ],
   "source": [
    "print(model.feature_importances_)"
   ]
  },
  {
   "cell_type": "code",
   "execution_count": 32,
   "id": "bea0f722",
   "metadata": {},
   "outputs": [
    {
     "data": {
      "image/png": "[encoded data removed]",
      "text/plain": [
       "<Figure size 640x480 with 1 Axes>"
      ]
     },
     "metadata": {},
     "output_type": "display_data"
    }
   ],
   "source": [
    "feature_importance = pd.Series(model.feature_importances_, index = X.columns)\n",
    "feature_importance.nlargest(5).plot(kind = 'barh')\n",
    "plt.show;"
   ]
  },
  {
   "cell_type": "markdown",
   "id": "21326754",
   "metadata": {},
   "source": [
    "As we can see the most importannt feature to predict selling price is present price."
   ]
  },
  {
   "cell_type": "code",
   "execution_count": 35,
   "id": "3321cb20",
   "metadata": {},
   "outputs": [
    {
     "name": "stdout",
     "output_type": "stream",
     "text": [
      "(225, 11) (76, 11) (225,) (76,)\n"
     ]
    }
   ],
   "source": [
    "from sklearn.model_selection import train_test_split, cross_val_score\n",
    "X_train, X_test, y_train, y_test = train_test_split(X, target, random_state= 42)\n",
    "\n",
    "print(X_train.shape, X_test.shape, y_train.shape, y_test.shape)"
   ]
  },
  {
   "cell_type": "markdown",
   "id": "31a90c77",
   "metadata": {},
   "source": [
    "### Model Creation"
   ]
  },
  {
   "cell_type": "markdown",
   "id": "c495c0b2",
   "metadata": {},
   "source": [
    "In this nokebook we are going to compare four different regressor and then tune each one that have poor performance then see which one is going to perform better."
   ]
  },
  {
   "cell_type": "code",
   "execution_count": 36,
   "id": "4b89ffc9",
   "metadata": {},
   "outputs": [],
   "source": [
    "import warnings\n",
    "warnings.filterwarnings('ignore')"
   ]
  },
  {
   "cell_type": "code",
   "execution_count": 37,
   "id": "ede102b3",
   "metadata": {},
   "outputs": [],
   "source": [
    "from sklearn.ensemble import GradientBoostingRegressor\n",
    "from sklearn.linear_model import SGDRegressor\n",
    "from sklearn.ensemble import RandomForestRegressor\n",
    "from catboost import CatBoostRegressor\n",
    "\n",
    "from sklearn.model_selection import RandomizedSearchCV\n",
    "\n",
    "# import metrics\n",
    "from sklearn.metrics import mean_absolute_error, mean_squared_error, r2_score"
   ]
  },
  {
   "cell_type": "code",
   "execution_count": 39,
   "id": "e89389c2",
   "metadata": {},
   "outputs": [],
   "source": [
    "GBR_model = GradientBoostingRegressor(random_state= 42)\n",
    "SGDR_model = SGDRegressor(random_state= 42)\n",
    "RFR_model = RandomForestRegressor()\n",
    "CBR_model = CatBoostRegressor()"
   ]
  },
  {
   "cell_type": "markdown",
   "id": "a733fadc",
   "metadata": {},
   "source": [
    "**GBR_model**"
   ]
  },
  {
   "cell_type": "code",
   "execution_count": 41,
   "id": "a86c843e",
   "metadata": {},
   "outputs": [],
   "source": [
    "GBR_model = GradientBoostingRegressor(random_state= 42)\n",
    "GBR_model.fit(X_train, y_train)\n",
    "y_pred = GBR_model.predict(X_test)"
   ]
  },
  {
   "cell_type": "code",
   "execution_count": 42,
   "id": "d3399045",
   "metadata": {},
   "outputs": [
    {
     "name": "stdout",
     "output_type": "stream",
     "text": [
      "MAE:0.5408562819175843, MSE: 0.8808967747078672, R2: 0.9679374302804042\n"
     ]
    }
   ],
   "source": [
    "# evaluate model\n",
    "GBR_MAE = mean_absolute_error(y_test, y_pred)\n",
    "GBR_MSE = mean_squared_error(y_test, y_pred)\n",
    "GBR_R2 = r2_score(y_test, y_pred)\n",
    "\n",
    "# printing the results\n",
    "print(f'MAE:{GBR_MAE}, MSE: {GBR_MSE}, R2: {GBR_R2}')"
   ]
  },
  {
   "cell_type": "code",
   "execution_count": 43,
   "id": "0a4f6f38",
   "metadata": {
    "scrolled": false
   },
   "outputs": [
    {
     "data": {
      "image/png": "[encoded data removed]",
      "text/plain": [
       "<Figure size 640x480 with 1 Axes>"
      ]
     },
     "metadata": {},
     "output_type": "display_data"
    }
   ],
   "source": [
    "plt.scatter(y_test, y_pred);"
   ]
  },
  {
   "cell_type": "markdown",
   "id": "70d6d8e1",
   "metadata": {},
   "source": [
    "As this model works prety good with default hyperparameter we do not need to tune it"
   ]
  },
  {
   "cell_type": "code",
   "execution_count": 44,
   "id": "382b8063",
   "metadata": {},
   "outputs": [
    {
     "data": {
      "text/html": [
       "<div>\n",
       "<style scoped>\n",
       "    .dataframe tbody tr th:only-of-type {\n",
       "        vertical-align: middle;\n",
       "    }\n",
       "\n",
       "    .dataframe tbody tr th {\n",
       "        vertical-align: top;\n",
       "    }\n",
       "\n",
       "    .dataframe thead th {\n",
       "        text-align: right;\n",
       "    }\n",
       "</style>\n",
       "<table border=\"1\" class=\"dataframe\">\n",
       "  <thead>\n",
       "    <tr style=\"text-align: right;\">\n",
       "      <th></th>\n",
       "      <th>Actual</th>\n",
       "      <th>Prediction</th>\n",
       "    </tr>\n",
       "  </thead>\n",
       "  <tbody>\n",
       "    <tr>\n",
       "      <th>0</th>\n",
       "      <td>0.35</td>\n",
       "      <td>0.424882</td>\n",
       "    </tr>\n",
       "    <tr>\n",
       "      <th>1</th>\n",
       "      <td>10.11</td>\n",
       "      <td>10.467838</td>\n",
       "    </tr>\n",
       "    <tr>\n",
       "      <th>2</th>\n",
       "      <td>4.95</td>\n",
       "      <td>4.772250</td>\n",
       "    </tr>\n",
       "    <tr>\n",
       "      <th>3</th>\n",
       "      <td>0.15</td>\n",
       "      <td>0.268056</td>\n",
       "    </tr>\n",
       "    <tr>\n",
       "      <th>4</th>\n",
       "      <td>6.95</td>\n",
       "      <td>7.657061</td>\n",
       "    </tr>\n",
       "  </tbody>\n",
       "</table>\n",
       "</div>"
      ],
      "text/plain": [
       "   Actual  Prediction\n",
       "0    0.35    0.424882\n",
       "1   10.11   10.467838\n",
       "2    4.95    4.772250\n",
       "3    0.15    0.268056\n",
       "4    6.95    7.657061"
      ]
     },
     "execution_count": 44,
     "metadata": {},
     "output_type": "execute_result"
    }
   ],
   "source": [
    "dft = pd.DataFrame({'Actual': y_test, 'Prediction': y_pred})\n",
    "dft.reset_index(drop=True, inplace=True)\n",
    "dft.head()"
   ]
  },
  {
   "cell_type": "code",
   "execution_count": 45,
   "id": "2894273a",
   "metadata": {},
   "outputs": [
    {
     "data": {
      "image/png": "[encoded data removed]",
      "text/plain": [
       "<Figure size 619.25x500 with 1 Axes>"
      ]
     },
     "metadata": {},
     "output_type": "display_data"
    }
   ],
   "source": [
    "ax = sns.displot(data = (dft['Actual'], dft['Prediction']),kind = 'kde')"
   ]
  },
  {
   "cell_type": "markdown",
   "id": "8371920a",
   "metadata": {},
   "source": [
    "GBR model performed very good without tuning so we are not going to tune it. "
   ]
  },
  {
   "cell_type": "markdown",
   "id": "04258bb6",
   "metadata": {},
   "source": [
    "**SGDR_model**"
   ]
  },
  {
   "cell_type": "code",
   "execution_count": 46,
   "id": "47eedad3",
   "metadata": {},
   "outputs": [],
   "source": [
    "SGDR_model = SGDRegressor(random_state= 42)\n",
    "SGDR_model.fit(X_train, y_train)\n",
    "SGDR_y_pred = SGDR_model.predict(X_test)"
   ]
  },
  {
   "cell_type": "code",
   "execution_count": 47,
   "id": "5c450cf7",
   "metadata": {},
   "outputs": [
    {
     "name": "stdout",
     "output_type": "stream",
     "text": [
      "MAE:6.4245507559862e+18, MSE: 5.884683481743032e+37, R2: -2.1418863120904382e+36\n"
     ]
    }
   ],
   "source": [
    "SGDR_MAE = mean_absolute_error(y_test, SGDR_y_pred)\n",
    "SGDR_MSE = mean_squared_error(y_test, SGDR_y_pred)\n",
    "SGDR_R2 = r2_score(y_test, SGDR_y_pred)\n",
    "\n",
    "# printing the results\n",
    "print(f'MAE:{SGDR_MAE}, MSE: {SGDR_MSE}, R2: {SGDR_R2}')"
   ]
  },
  {
   "cell_type": "code",
   "execution_count": 48,
   "id": "841b37cd",
   "metadata": {},
   "outputs": [
    {
     "data": {
      "text/html": [
       "<div>\n",
       "<style scoped>\n",
       "    .dataframe tbody tr th:only-of-type {\n",
       "        vertical-align: middle;\n",
       "    }\n",
       "\n",
       "    .dataframe tbody tr th {\n",
       "        vertical-align: top;\n",
       "    }\n",
       "\n",
       "    .dataframe thead th {\n",
       "        text-align: right;\n",
       "    }\n",
       "</style>\n",
       "<table border=\"1\" class=\"dataframe\">\n",
       "  <thead>\n",
       "    <tr style=\"text-align: right;\">\n",
       "      <th></th>\n",
       "      <th>Actual</th>\n",
       "      <th>Prediction</th>\n",
       "    </tr>\n",
       "  </thead>\n",
       "  <tbody>\n",
       "    <tr>\n",
       "      <th>177</th>\n",
       "      <td>0.35</td>\n",
       "      <td>-4.426537e+18</td>\n",
       "    </tr>\n",
       "    <tr>\n",
       "      <th>289</th>\n",
       "      <td>10.11</td>\n",
       "      <td>-2.025141e+18</td>\n",
       "    </tr>\n",
       "    <tr>\n",
       "      <th>228</th>\n",
       "      <td>4.95</td>\n",
       "      <td>-1.106634e+19</td>\n",
       "    </tr>\n",
       "    <tr>\n",
       "      <th>198</th>\n",
       "      <td>0.15</td>\n",
       "      <td>-6.455367e+18</td>\n",
       "    </tr>\n",
       "    <tr>\n",
       "      <th>60</th>\n",
       "      <td>6.95</td>\n",
       "      <td>-7.377746e+18</td>\n",
       "    </tr>\n",
       "  </tbody>\n",
       "</table>\n",
       "</div>"
      ],
      "text/plain": [
       "     Actual    Prediction\n",
       "177    0.35 -4.426537e+18\n",
       "289   10.11 -2.025141e+18\n",
       "228    4.95 -1.106634e+19\n",
       "198    0.15 -6.455367e+18\n",
       "60     6.95 -7.377746e+18"
      ]
     },
     "execution_count": 48,
     "metadata": {},
     "output_type": "execute_result"
    }
   ],
   "source": [
    "SGDR_df = pd.DataFrame({'Actual': y_test, 'Prediction': SGDR_y_pred})\n",
    "SGDR_df.head()"
   ]
  },
  {
   "cell_type": "code",
   "execution_count": 49,
   "id": "52b64017",
   "metadata": {},
   "outputs": [
    {
     "data": {
      "image/png": "[encoded data removed]",
      "text/plain": [
       "<Figure size 619.25x500 with 1 Axes>"
      ]
     },
     "metadata": {},
     "output_type": "display_data"
    }
   ],
   "source": [
    "ax = sns.displot(data = (SGDR_df['Actual'], SGDR_df['Prediction']),kind = 'kde')"
   ]
  },
  {
   "cell_type": "markdown",
   "id": "91ed705d",
   "metadata": {},
   "source": [
    "As we can see it cannot preddict well with default hyperparameter so let's tune it."
   ]
  },
  {
   "cell_type": "code",
   "execution_count": 50,
   "id": "2ce51022",
   "metadata": {},
   "outputs": [],
   "source": [
    "loss= ['squared_error','huber', 'epsilon_insensitive', 'squared_epsilon_insensitive']\n",
    "penalty = ['l2', 'l1']\n",
    "alpha = [float(X) for X in np.linspace(start= 0.0001, stop= 0.01, num = 100 )]\n",
    "l1_ratio = [float(X) for X in np.linspace(start = 0.1, stop = 0.5, num = 100)]\n",
    "fit_intercept = ['True, False']\n",
    "max_iter = [int(X) for X in np.linspace(start = 900, stop = 1500, num = 100)]\n",
    "learning_rate = ['constant', 'optimal', 'invscaling', 'adaptive']\n",
    "warm_start = ['False', 'True']"
   ]
  },
  {
   "cell_type": "code",
   "execution_count": 51,
   "id": "fffa286b",
   "metadata": {},
   "outputs": [],
   "source": [
    "random_grid = {'loss': loss,\n",
    "               'penalty': penalty,\n",
    "               'alpha': alpha,\n",
    "               'l1_ratio': l1_ratio,\n",
    "               'max_iter': max_iter,\n",
    "               'learning_rate': learning_rate,\n",
    "               'warm_start': warm_start,}"
   ]
  },
  {
   "cell_type": "code",
   "execution_count": 52,
   "id": "196f998c",
   "metadata": {},
   "outputs": [],
   "source": [
    "Tuned_SGDR_model = RandomizedSearchCV(estimator= SGDR_model, param_distributions=random_grid, scoring='neg_mean_absolute_error' , cv = 10, random_state= 42,)"
   ]
  },
  {
   "cell_type": "code",
   "execution_count": 53,
   "id": "59cfa940",
   "metadata": {},
   "outputs": [
    {
     "data": {
      "text/html": [
       "<style>#sk-container-id-2 {color: black;background-color: white;}#sk-container-id-2 pre{padding: 0;}#sk-container-id-2 div.sk-toggleable {background-color: white;}#sk-container-id-2 label.sk-toggleable__label {cursor: pointer;display: block;width: 100%;margin-bottom: 0;padding: 0.3em;box-sizing: border-box;text-align: center;}#sk-container-id-2 label.sk-toggleable__label-arrow:before {content: \"▸\";float: left;margin-right: 0.25em;color: #696969;}#sk-container-id-2 label.sk-toggleable__label-arrow:hover:before {color: black;}#sk-container-id-2 div.sk-estimator:hover label.sk-toggleable__label-arrow:before {color: black;}#sk-container-id-2 div.sk-toggleable__content {max-height: 0;max-width: 0;overflow: hidden;text-align: left;background-color: #f0f8ff;}#sk-container-id-2 div.sk-toggleable__content pre {margin: 0.2em;color: black;border-radius: 0.25em;background-color: #f0f8ff;}#sk-container-id-2 input.sk-toggleable__control:checked~div.sk-toggleable__content {max-height: 200px;max-width: 100%;overflow: auto;}#sk-container-id-2 input.sk-toggleable__control:checked~label.sk-toggleable__label-arrow:before {content: \"▾\";}#sk-container-id-2 div.sk-estimator input.sk-toggleable__control:checked~label.sk-toggleable__label {background-color: #d4ebff;}#sk-container-id-2 div.sk-label input.sk-toggleable__control:checked~label.sk-toggleable__label {background-color: #d4ebff;}#sk-container-id-2 input.sk-hidden--visually {border: 0;clip: rect(1px 1px 1px 1px);clip: rect(1px, 1px, 1px, 1px);height: 1px;margin: -1px;overflow: hidden;padding: 0;position: absolute;width: 1px;}#sk-container-id-2 div.sk-estimator {font-family: monospace;background-color: #f0f8ff;border: 1px dotted black;border-radius: 0.25em;box-sizing: border-box;margin-bottom: 0.5em;}#sk-container-id-2 div.sk-estimator:hover {background-color: #d4ebff;}#sk-container-id-2 div.sk-parallel-item::after {content: \"\";width: 100%;border-bottom: 1px solid gray;flex-grow: 1;}#sk-container-id-2 div.sk-label:hover label.sk-toggleable__label {background-color: #d4ebff;}#sk-container-id-2 div.sk-serial::before {content: \"\";position: absolute;border-left: 1px solid gray;box-sizing: border-box;top: 0;bottom: 0;left: 50%;z-index: 0;}#sk-container-id-2 div.sk-serial {display: flex;flex-direction: column;align-items: center;background-color: white;padding-right: 0.2em;padding-left: 0.2em;position: relative;}#sk-container-id-2 div.sk-item {position: relative;z-index: 1;}#sk-container-id-2 div.sk-parallel {display: flex;align-items: stretch;justify-content: center;background-color: white;position: relative;}#sk-container-id-2 div.sk-item::before, #sk-container-id-2 div.sk-parallel-item::before {content: \"\";position: absolute;border-left: 1px solid gray;box-sizing: border-box;top: 0;bottom: 0;left: 50%;z-index: -1;}#sk-container-id-2 div.sk-parallel-item {display: flex;flex-direction: column;z-index: 1;position: relative;background-color: white;}#sk-container-id-2 div.sk-parallel-item:first-child::after {align-self: flex-end;width: 50%;}#sk-container-id-2 div.sk-parallel-item:last-child::after {align-self: flex-start;width: 50%;}#sk-container-id-2 div.sk-parallel-item:only-child::after {width: 0;}#sk-container-id-2 div.sk-dashed-wrapped {border: 1px dashed gray;margin: 0 0.4em 0.5em 0.4em;box-sizing: border-box;padding-bottom: 0.4em;background-color: white;}#sk-container-id-2 div.sk-label label {font-family: monospace;font-weight: bold;display: inline-block;line-height: 1.2em;}#sk-container-id-2 div.sk-label-container {text-align: center;}#sk-container-id-2 div.sk-container {/* jupyter's `normalize.less` sets `[hidden] { display: none; }` but bootstrap.min.css set `[hidden] { display: none !important; }` so we also need the `!important` here to be able to override the default hidden behavior on the sphinx rendered scikit-learn.org. See: https://github.com/scikit-learn/scikit-learn/issues/21755 */display: inline-block !important;position: relative;}#sk-container-id-2 div.sk-text-repr-fallback {display: none;}</style><div id=\"sk-container-id-2\" class=\"sk-top-container\"><div class=\"sk-text-repr-fallback\"><pre>RandomizedSearchCV(cv=10, estimator=SGDRegressor(random_state=42),\n",
       "                   param_distributions={&#x27;alpha&#x27;: [0.0001, 0.0002,\n",
       "                                                  0.00030000000000000003,\n",
       "                                                  0.0004, 0.0005,\n",
       "                                                  0.0006000000000000001,\n",
       "                                                  0.0007000000000000001, 0.0008,\n",
       "                                                  0.0009000000000000001, 0.001,\n",
       "                                                  0.0011, 0.0012000000000000001,\n",
       "                                                  0.0013000000000000002,\n",
       "                                                  0.0014000000000000002, 0.0015,\n",
       "                                                  0.0016, 0.0017000000000000001,\n",
       "                                                  0.00180000000000...\n",
       "                                                          &#x27;adaptive&#x27;],\n",
       "                                        &#x27;loss&#x27;: [&#x27;squared_error&#x27;, &#x27;huber&#x27;,\n",
       "                                                 &#x27;epsilon_insensitive&#x27;,\n",
       "                                                 &#x27;squared_epsilon_insensitive&#x27;],\n",
       "                                        &#x27;max_iter&#x27;: [900, 906, 912, 918, 924,\n",
       "                                                     930, 936, 942, 948, 954,\n",
       "                                                     960, 966, 972, 978, 984,\n",
       "                                                     990, 996, 1003, 1009, 1015,\n",
       "                                                     1021, 1027, 1033, 1039,\n",
       "                                                     1045, 1051, 1057, 1063,\n",
       "                                                     1069, 1075, ...],\n",
       "                                        &#x27;penalty&#x27;: [&#x27;l2&#x27;, &#x27;l1&#x27;],\n",
       "                                        &#x27;warm_start&#x27;: [&#x27;False&#x27;, &#x27;True&#x27;]},\n",
       "                   random_state=42, scoring=&#x27;neg_mean_absolute_error&#x27;)</pre><b>In a Jupyter environment, please rerun this cell to show the HTML representation or trust the notebook. <br />On GitHub, the HTML representation is unable to render, please try loading this page with nbviewer.org.</b></div><div class=\"sk-container\" hidden><div class=\"sk-item sk-dashed-wrapped\"><div class=\"sk-label-container\"><div class=\"sk-label sk-toggleable\"><input class=\"sk-toggleable__control sk-hidden--visually\" id=\"sk-estimator-id-2\" type=\"checkbox\" ><label for=\"sk-estimator-id-2\" class=\"sk-toggleable__label sk-toggleable__label-arrow\">RandomizedSearchCV</label><div class=\"sk-toggleable__content\"><pre>RandomizedSearchCV(cv=10, estimator=SGDRegressor(random_state=42),\n",
       "                   param_distributions={&#x27;alpha&#x27;: [0.0001, 0.0002,\n",
       "                                                  0.00030000000000000003,\n",
       "                                                  0.0004, 0.0005,\n",
       "                                                  0.0006000000000000001,\n",
       "                                                  0.0007000000000000001, 0.0008,\n",
       "                                                  0.0009000000000000001, 0.001,\n",
       "                                                  0.0011, 0.0012000000000000001,\n",
       "                                                  0.0013000000000000002,\n",
       "                                                  0.0014000000000000002, 0.0015,\n",
       "                                                  0.0016, 0.0017000000000000001,\n",
       "                                                  0.00180000000000...\n",
       "                                                          &#x27;adaptive&#x27;],\n",
       "                                        &#x27;loss&#x27;: [&#x27;squared_error&#x27;, &#x27;huber&#x27;,\n",
       "                                                 &#x27;epsilon_insensitive&#x27;,\n",
       "                                                 &#x27;squared_epsilon_insensitive&#x27;],\n",
       "                                        &#x27;max_iter&#x27;: [900, 906, 912, 918, 924,\n",
       "                                                     930, 936, 942, 948, 954,\n",
       "                                                     960, 966, 972, 978, 984,\n",
       "                                                     990, 996, 1003, 1009, 1015,\n",
       "                                                     1021, 1027, 1033, 1039,\n",
       "                                                     1045, 1051, 1057, 1063,\n",
       "                                                     1069, 1075, ...],\n",
       "                                        &#x27;penalty&#x27;: [&#x27;l2&#x27;, &#x27;l1&#x27;],\n",
       "                                        &#x27;warm_start&#x27;: [&#x27;False&#x27;, &#x27;True&#x27;]},\n",
       "                   random_state=42, scoring=&#x27;neg_mean_absolute_error&#x27;)</pre></div></div></div><div class=\"sk-parallel\"><div class=\"sk-parallel-item\"><div class=\"sk-item\"><div class=\"sk-label-container\"><div class=\"sk-label sk-toggleable\"><input class=\"sk-toggleable__control sk-hidden--visually\" id=\"sk-estimator-id-3\" type=\"checkbox\" ><label for=\"sk-estimator-id-3\" class=\"sk-toggleable__label sk-toggleable__label-arrow\">estimator: SGDRegressor</label><div class=\"sk-toggleable__content\"><pre>SGDRegressor(random_state=42)</pre></div></div></div><div class=\"sk-serial\"><div class=\"sk-item\"><div class=\"sk-estimator sk-toggleable\"><input class=\"sk-toggleable__control sk-hidden--visually\" id=\"sk-estimator-id-4\" type=\"checkbox\" ><label for=\"sk-estimator-id-4\" class=\"sk-toggleable__label sk-toggleable__label-arrow\">SGDRegressor</label><div class=\"sk-toggleable__content\"><pre>SGDRegressor(random_state=42)</pre></div></div></div></div></div></div></div></div></div></div>"
      ],
      "text/plain": [
       "RandomizedSearchCV(cv=10, estimator=SGDRegressor(random_state=42),\n",
       "                   param_distributions={'alpha': [0.0001, 0.0002,\n",
       "                                                  0.00030000000000000003,\n",
       "                                                  0.0004, 0.0005,\n",
       "                                                  0.0006000000000000001,\n",
       "                                                  0.0007000000000000001, 0.0008,\n",
       "                                                  0.0009000000000000001, 0.001,\n",
       "                                                  0.0011, 0.0012000000000000001,\n",
       "                                                  0.0013000000000000002,\n",
       "                                                  0.0014000000000000002, 0.0015,\n",
       "                                                  0.0016, 0.0017000000000000001,\n",
       "                                                  0.00180000000000...\n",
       "                                                          'adaptive'],\n",
       "                                        'loss': ['squared_error', 'huber',\n",
       "                                                 'epsilon_insensitive',\n",
       "                                                 'squared_epsilon_insensitive'],\n",
       "                                        'max_iter': [900, 906, 912, 918, 924,\n",
       "                                                     930, 936, 942, 948, 954,\n",
       "                                                     960, 966, 972, 978, 984,\n",
       "                                                     990, 996, 1003, 1009, 1015,\n",
       "                                                     1021, 1027, 1033, 1039,\n",
       "                                                     1045, 1051, 1057, 1063,\n",
       "                                                     1069, 1075, ...],\n",
       "                                        'penalty': ['l2', 'l1'],\n",
       "                                        'warm_start': ['False', 'True']},\n",
       "                   random_state=42, scoring='neg_mean_absolute_error')"
      ]
     },
     "execution_count": 53,
     "metadata": {},
     "output_type": "execute_result"
    }
   ],
   "source": [
    "Tuned_SGDR_model.fit(X_train, y_train)"
   ]
  },
  {
   "cell_type": "code",
   "execution_count": 54,
   "id": "421a4f7e",
   "metadata": {},
   "outputs": [
    {
     "data": {
      "text/plain": [
       "{'warm_start': 'False',\n",
       " 'penalty': 'l1',\n",
       " 'max_iter': 1324,\n",
       " 'loss': 'huber',\n",
       " 'learning_rate': 'adaptive',\n",
       " 'l1_ratio': 0.45151515151515154,\n",
       " 'alpha': 0.0089}"
      ]
     },
     "execution_count": 54,
     "metadata": {},
     "output_type": "execute_result"
    }
   ],
   "source": [
    "Tuned_SGDR_model.best_params_"
   ]
  },
  {
   "cell_type": "code",
   "execution_count": 55,
   "id": "1b7e3bd3",
   "metadata": {},
   "outputs": [],
   "source": [
    "T_SGDR_y_pred = Tuned_SGDR_model.predict(X_test)"
   ]
  },
  {
   "cell_type": "code",
   "execution_count": 57,
   "id": "989bef80",
   "metadata": {},
   "outputs": [
    {
     "data": {
      "image/png": "[encoded data removed]",
      "text/plain": [
       "<Figure size 640x480 with 1 Axes>"
      ]
     },
     "metadata": {},
     "output_type": "display_data"
    }
   ],
   "source": [
    "plt.scatter(y_test, T_SGDR_y_pred);"
   ]
  },
  {
   "cell_type": "code",
   "execution_count": 58,
   "id": "9ebb48f4",
   "metadata": {},
   "outputs": [
    {
     "name": "stdout",
     "output_type": "stream",
     "text": [
      "MAE:59.07001780969827, MSE: 5217.386128116324, R2: -188.9005777859246\n"
     ]
    }
   ],
   "source": [
    "# evaluate model\n",
    "T_SGDR_MAE = mean_absolute_error(y_test, T_SGDR_y_pred)\n",
    "T_SGDR_MSE = mean_squared_error(y_test, T_SGDR_y_pred)\n",
    "T_SGDR_R2 = r2_score(y_test, T_SGDR_y_pred)\n",
    "\n",
    "# printing the results\n",
    "print(f'MAE:{T_SGDR_MAE}, MSE: {T_SGDR_MSE}, R2: {T_SGDR_R2}')"
   ]
  },
  {
   "cell_type": "code",
   "execution_count": 59,
   "id": "d96950db",
   "metadata": {
    "scrolled": true
   },
   "outputs": [
    {
     "data": {
      "text/html": [
       "<div>\n",
       "<style scoped>\n",
       "    .dataframe tbody tr th:only-of-type {\n",
       "        vertical-align: middle;\n",
       "    }\n",
       "\n",
       "    .dataframe tbody tr th {\n",
       "        vertical-align: top;\n",
       "    }\n",
       "\n",
       "    .dataframe thead th {\n",
       "        text-align: right;\n",
       "    }\n",
       "</style>\n",
       "<table border=\"1\" class=\"dataframe\">\n",
       "  <thead>\n",
       "    <tr style=\"text-align: right;\">\n",
       "      <th></th>\n",
       "      <th>Actual</th>\n",
       "      <th>Prediction</th>\n",
       "    </tr>\n",
       "  </thead>\n",
       "  <tbody>\n",
       "    <tr>\n",
       "      <th>177</th>\n",
       "      <td>0.35</td>\n",
       "      <td>43.892625</td>\n",
       "    </tr>\n",
       "    <tr>\n",
       "      <th>289</th>\n",
       "      <td>10.11</td>\n",
       "      <td>20.069339</td>\n",
       "    </tr>\n",
       "    <tr>\n",
       "      <th>228</th>\n",
       "      <td>4.95</td>\n",
       "      <td>109.763463</td>\n",
       "    </tr>\n",
       "    <tr>\n",
       "      <th>198</th>\n",
       "      <td>0.15</td>\n",
       "      <td>64.019826</td>\n",
       "    </tr>\n",
       "    <tr>\n",
       "      <th>60</th>\n",
       "      <td>6.95</td>\n",
       "      <td>73.170383</td>\n",
       "    </tr>\n",
       "  </tbody>\n",
       "</table>\n",
       "</div>"
      ],
      "text/plain": [
       "     Actual  Prediction\n",
       "177    0.35   43.892625\n",
       "289   10.11   20.069339\n",
       "228    4.95  109.763463\n",
       "198    0.15   64.019826\n",
       "60     6.95   73.170383"
      ]
     },
     "execution_count": 59,
     "metadata": {},
     "output_type": "execute_result"
    }
   ],
   "source": [
    "T_SGDR_df = pd.DataFrame({'Actual': y_test, 'Prediction': T_SGDR_y_pred})\n",
    "T_SGDR_df.head()"
   ]
  },
  {
   "cell_type": "code",
   "execution_count": 60,
   "id": "ad8d65eb",
   "metadata": {},
   "outputs": [
    {
     "data": {
      "image/png": "[encoded data removed]",
      "text/plain": [
       "<Figure size 619.25x500 with 1 Axes>"
      ]
     },
     "metadata": {},
     "output_type": "display_data"
    }
   ],
   "source": [
    "ax = sns.displot(data = (T_SGDR_df['Actual'], T_SGDR_df['Prediction']),kind = 'kde')"
   ]
  },
  {
   "cell_type": "markdown",
   "id": "d05fd98e",
   "metadata": {},
   "source": [
    "Obviously, the model has not a good performance. Howerver, it is essential to note a substantial difference between the SGDR model after the implementation of tuning techniques as compared to its pre-tuning state.`"
   ]
  },
  {
   "cell_type": "markdown",
   "id": "77a0d8a7",
   "metadata": {},
   "source": [
    "**RandomForestRegressor**"
   ]
  },
  {
   "cell_type": "code",
   "execution_count": 61,
   "id": "6c1a237a",
   "metadata": {},
   "outputs": [],
   "source": [
    "RFR_model = RandomForestRegressor()\n",
    "RFR_model.fit(X_train, y_train)\n",
    "RFR_y_pred = RFR_model.predict(X_test)"
   ]
  },
  {
   "cell_type": "code",
   "execution_count": 62,
   "id": "ecb81797",
   "metadata": {},
   "outputs": [
    {
     "data": {
      "image/png": "[encoded data removed]",
      "text/plain": [
       "<Figure size 640x480 with 1 Axes>"
      ]
     },
     "metadata": {},
     "output_type": "display_data"
    }
   ],
   "source": [
    "plt.scatter(y_test, RFR_y_pred);"
   ]
  },
  {
   "cell_type": "code",
   "execution_count": 63,
   "id": "fa673312",
   "metadata": {},
   "outputs": [
    {
     "name": "stdout",
     "output_type": "stream",
     "text": [
      "MAE: 0.5749657894736846 | MSE: 0.7935562621052629 | R2: 0.9711164194140571\n"
     ]
    }
   ],
   "source": [
    "RFR_MAE = mean_absolute_error(y_test, RFR_y_pred)\n",
    "RFR_MSE = mean_squared_error(y_test, RFR_y_pred)\n",
    "RFR_R2 = r2_score(y_test, RFR_y_pred)\n",
    "\n",
    "print(f'MAE: {RFR_MAE} | MSE: {RFR_MSE} | R2: {RFR_R2}')"
   ]
  },
  {
   "cell_type": "code",
   "execution_count": 64,
   "id": "8e0d56d4",
   "metadata": {
    "scrolled": true
   },
   "outputs": [
    {
     "data": {
      "text/html": [
       "<div>\n",
       "<style scoped>\n",
       "    .dataframe tbody tr th:only-of-type {\n",
       "        vertical-align: middle;\n",
       "    }\n",
       "\n",
       "    .dataframe tbody tr th {\n",
       "        vertical-align: top;\n",
       "    }\n",
       "\n",
       "    .dataframe thead th {\n",
       "        text-align: right;\n",
       "    }\n",
       "</style>\n",
       "<table border=\"1\" class=\"dataframe\">\n",
       "  <thead>\n",
       "    <tr style=\"text-align: right;\">\n",
       "      <th></th>\n",
       "      <th>Actual</th>\n",
       "      <th>Prediction</th>\n",
       "    </tr>\n",
       "  </thead>\n",
       "  <tbody>\n",
       "    <tr>\n",
       "      <th>177</th>\n",
       "      <td>0.35</td>\n",
       "      <td>0.4381</td>\n",
       "    </tr>\n",
       "    <tr>\n",
       "      <th>289</th>\n",
       "      <td>10.11</td>\n",
       "      <td>10.8830</td>\n",
       "    </tr>\n",
       "    <tr>\n",
       "      <th>228</th>\n",
       "      <td>4.95</td>\n",
       "      <td>5.1575</td>\n",
       "    </tr>\n",
       "    <tr>\n",
       "      <th>198</th>\n",
       "      <td>0.15</td>\n",
       "      <td>0.1967</td>\n",
       "    </tr>\n",
       "    <tr>\n",
       "      <th>60</th>\n",
       "      <td>6.95</td>\n",
       "      <td>7.4735</td>\n",
       "    </tr>\n",
       "  </tbody>\n",
       "</table>\n",
       "</div>"
      ],
      "text/plain": [
       "     Actual  Prediction\n",
       "177    0.35      0.4381\n",
       "289   10.11     10.8830\n",
       "228    4.95      5.1575\n",
       "198    0.15      0.1967\n",
       "60     6.95      7.4735"
      ]
     },
     "execution_count": 64,
     "metadata": {},
     "output_type": "execute_result"
    }
   ],
   "source": [
    "RFR_df = pd.DataFrame({'Actual': y_test, 'Prediction': RFR_y_pred})\n",
    "RFR_df.head()"
   ]
  },
  {
   "cell_type": "code",
   "execution_count": 65,
   "id": "245d3dc5",
   "metadata": {},
   "outputs": [
    {
     "data": {
      "image/png": "[encoded data removed]",
      "text/plain": [
       "<Figure size 619.25x500 with 1 Axes>"
      ]
     },
     "metadata": {},
     "output_type": "display_data"
    }
   ],
   "source": [
    "ax = sns.displot(data = (RFR_df['Actual'], RFR_df['Prediction']), kind = 'kde')"
   ]
  },
  {
   "cell_type": "markdown",
   "id": "e3a0b077",
   "metadata": {},
   "source": [
    "The random forest regressor exhibits a remarkable level of performance, rendering any further adjustments or tuning is unnecessary. "
   ]
  },
  {
   "cell_type": "markdown",
   "id": "a18ed36e",
   "metadata": {},
   "source": [
    "**CatBoostRegressor**"
   ]
  },
  {
   "cell_type": "code",
   "execution_count": 66,
   "id": "465edae9",
   "metadata": {},
   "outputs": [
    {
     "name": "stdout",
     "output_type": "stream",
     "text": [
      "Learning rate set to 0.032346\n",
      "0:\tlearn: 4.9267607\ttotal: 141ms\tremaining: 2m 21s\n",
      "1:\tlearn: 4.8379801\ttotal: 142ms\tremaining: 1m 10s\n",
      "2:\tlearn: 4.7517828\ttotal: 143ms\tremaining: 47.6s\n",
      "3:\tlearn: 4.6718790\ttotal: 144ms\tremaining: 35.9s\n",
      "4:\tlearn: 4.5993245\ttotal: 145ms\tremaining: 28.9s\n",
      "5:\tlearn: 4.5244262\ttotal: 146ms\tremaining: 24.2s\n",
      "6:\tlearn: 4.4477143\ttotal: 147ms\tremaining: 20.8s\n",
      "7:\tlearn: 4.3766781\ttotal: 148ms\tremaining: 18.3s\n",
      "8:\tlearn: 4.2933881\ttotal: 149ms\tremaining: 16.4s\n",
      "9:\tlearn: 4.2372730\ttotal: 149ms\tremaining: 14.8s\n",
      "10:\tlearn: 4.1637480\ttotal: 150ms\tremaining: 13.5s\n",
      "11:\tlearn: 4.1025327\ttotal: 151ms\tremaining: 12.4s\n",
      "12:\tlearn: 4.0415710\ttotal: 152ms\tremaining: 11.5s\n",
      "13:\tlearn: 3.9772887\ttotal: 153ms\tremaining: 10.8s\n",
      "14:\tlearn: 3.9159160\ttotal: 154ms\tremaining: 10.1s\n",
      "15:\tlearn: 3.8678159\ttotal: 156ms\tremaining: 9.56s\n",
      "16:\tlearn: 3.8074929\ttotal: 157ms\tremaining: 9.06s\n",
      "17:\tlearn: 3.7543990\ttotal: 158ms\tremaining: 8.63s\n",
      "18:\tlearn: 3.6881904\ttotal: 159ms\tremaining: 8.23s\n",
      "19:\tlearn: 3.6357163\ttotal: 161ms\tremaining: 7.88s\n",
      "20:\tlearn: 3.5884587\ttotal: 163ms\tremaining: 7.58s\n",
      "21:\tlearn: 3.5282835\ttotal: 164ms\tremaining: 7.3s\n",
      "22:\tlearn: 3.4696933\ttotal: 166ms\tremaining: 7.04s\n",
      "23:\tlearn: 3.4163137\ttotal: 167ms\tremaining: 6.78s\n",
      "24:\tlearn: 3.3663078\ttotal: 168ms\tremaining: 6.54s\n",
      "25:\tlearn: 3.3144894\ttotal: 169ms\tremaining: 6.33s\n",
      "26:\tlearn: 3.2640564\ttotal: 170ms\tremaining: 6.14s\n",
      "27:\tlearn: 3.2149095\ttotal: 172ms\tremaining: 5.95s\n",
      "28:\tlearn: 3.1662002\ttotal: 172ms\tremaining: 5.77s\n",
      "29:\tlearn: 3.1177670\ttotal: 174ms\tremaining: 5.61s\n",
      "30:\tlearn: 3.0700676\ttotal: 175ms\tremaining: 5.46s\n",
      "31:\tlearn: 3.0251701\ttotal: 176ms\tremaining: 5.32s\n",
      "32:\tlearn: 2.9924728\ttotal: 176ms\tremaining: 5.17s\n",
      "33:\tlearn: 2.9503296\ttotal: 177ms\tremaining: 5.02s\n",
      "34:\tlearn: 2.9045264\ttotal: 178ms\tremaining: 4.9s\n",
      "35:\tlearn: 2.8758527\ttotal: 180ms\tremaining: 4.81s\n",
      "36:\tlearn: 2.8389246\ttotal: 181ms\tremaining: 4.71s\n",
      "37:\tlearn: 2.8038494\ttotal: 182ms\tremaining: 4.62s\n",
      "38:\tlearn: 2.7596536\ttotal: 184ms\tremaining: 4.52s\n",
      "39:\tlearn: 2.7170815\ttotal: 185ms\tremaining: 4.43s\n",
      "40:\tlearn: 2.6801790\ttotal: 186ms\tremaining: 4.35s\n",
      "41:\tlearn: 2.6398347\ttotal: 187ms\tremaining: 4.26s\n",
      "42:\tlearn: 2.6073639\ttotal: 188ms\tremaining: 4.19s\n",
      "43:\tlearn: 2.5790149\ttotal: 189ms\tremaining: 4.11s\n",
      "44:\tlearn: 2.5447895\ttotal: 190ms\tremaining: 4.04s\n",
      "45:\tlearn: 2.5204538\ttotal: 192ms\tremaining: 3.97s\n",
      "46:\tlearn: 2.4921146\ttotal: 193ms\tremaining: 3.9s\n",
      "47:\tlearn: 2.4586598\ttotal: 193ms\tremaining: 3.84s\n",
      "48:\tlearn: 2.4341595\ttotal: 195ms\tremaining: 3.77s\n",
      "49:\tlearn: 2.4086393\ttotal: 196ms\tremaining: 3.71s\n",
      "50:\tlearn: 2.3777543\ttotal: 197ms\tremaining: 3.66s\n",
      "51:\tlearn: 2.3490010\ttotal: 198ms\tremaining: 3.6s\n",
      "52:\tlearn: 2.3213851\ttotal: 199ms\tremaining: 3.55s\n",
      "53:\tlearn: 2.3002649\ttotal: 199ms\tremaining: 3.49s\n",
      "54:\tlearn: 2.2714765\ttotal: 201ms\tremaining: 3.45s\n",
      "55:\tlearn: 2.2408052\ttotal: 202ms\tremaining: 3.4s\n",
      "56:\tlearn: 2.2259679\ttotal: 203ms\tremaining: 3.35s\n",
      "57:\tlearn: 2.1980809\ttotal: 204ms\tremaining: 3.31s\n",
      "58:\tlearn: 2.1780161\ttotal: 205ms\tremaining: 3.27s\n",
      "59:\tlearn: 2.1516937\ttotal: 206ms\tremaining: 3.23s\n",
      "60:\tlearn: 2.1279935\ttotal: 209ms\tremaining: 3.22s\n",
      "61:\tlearn: 2.1135087\ttotal: 209ms\tremaining: 3.17s\n",
      "62:\tlearn: 2.0986879\ttotal: 210ms\tremaining: 3.13s\n",
      "63:\tlearn: 2.0736559\ttotal: 211ms\tremaining: 3.09s\n",
      "64:\tlearn: 2.0561086\ttotal: 212ms\tremaining: 3.05s\n",
      "65:\tlearn: 2.0363034\ttotal: 213ms\tremaining: 3.01s\n",
      "66:\tlearn: 2.0137345\ttotal: 214ms\tremaining: 2.98s\n",
      "67:\tlearn: 1.9901632\ttotal: 215ms\tremaining: 2.95s\n",
      "68:\tlearn: 1.9716700\ttotal: 216ms\tremaining: 2.92s\n",
      "69:\tlearn: 1.9502814\ttotal: 217ms\tremaining: 2.89s\n",
      "70:\tlearn: 1.9379720\ttotal: 218ms\tremaining: 2.85s\n",
      "71:\tlearn: 1.9174405\ttotal: 219ms\tremaining: 2.82s\n",
      "72:\tlearn: 1.9044529\ttotal: 219ms\tremaining: 2.79s\n",
      "73:\tlearn: 1.8935766\ttotal: 220ms\tremaining: 2.76s\n",
      "74:\tlearn: 1.8769023\ttotal: 221ms\tremaining: 2.73s\n",
      "75:\tlearn: 1.8538124\ttotal: 222ms\tremaining: 2.7s\n",
      "76:\tlearn: 1.8374105\ttotal: 223ms\tremaining: 2.67s\n",
      "77:\tlearn: 1.8185823\ttotal: 224ms\tremaining: 2.64s\n",
      "78:\tlearn: 1.8021926\ttotal: 224ms\tremaining: 2.61s\n",
      "79:\tlearn: 1.7865659\ttotal: 225ms\tremaining: 2.59s\n",
      "80:\tlearn: 1.7658517\ttotal: 226ms\tremaining: 2.56s\n",
      "81:\tlearn: 1.7588020\ttotal: 226ms\tremaining: 2.53s\n",
      "82:\tlearn: 1.7440679\ttotal: 227ms\tremaining: 2.51s\n",
      "83:\tlearn: 1.7327048\ttotal: 228ms\tremaining: 2.49s\n",
      "84:\tlearn: 1.7173263\ttotal: 229ms\tremaining: 2.46s\n",
      "85:\tlearn: 1.7064109\ttotal: 230ms\tremaining: 2.44s\n",
      "86:\tlearn: 1.6891762\ttotal: 231ms\tremaining: 2.42s\n",
      "87:\tlearn: 1.6749968\ttotal: 231ms\tremaining: 2.4s\n",
      "88:\tlearn: 1.6593135\ttotal: 232ms\tremaining: 2.38s\n",
      "89:\tlearn: 1.6432161\ttotal: 233ms\tremaining: 2.36s\n",
      "90:\tlearn: 1.6295019\ttotal: 234ms\tremaining: 2.34s\n",
      "91:\tlearn: 1.6146377\ttotal: 235ms\tremaining: 2.32s\n",
      "92:\tlearn: 1.5978593\ttotal: 236ms\tremaining: 2.3s\n",
      "93:\tlearn: 1.5820200\ttotal: 237ms\tremaining: 2.28s\n",
      "94:\tlearn: 1.5738878\ttotal: 238ms\tremaining: 2.26s\n",
      "95:\tlearn: 1.5576812\ttotal: 239ms\tremaining: 2.25s\n",
      "96:\tlearn: 1.5457118\ttotal: 239ms\tremaining: 2.23s\n",
      "97:\tlearn: 1.5301383\ttotal: 240ms\tremaining: 2.21s\n",
      "98:\tlearn: 1.5158520\ttotal: 241ms\tremaining: 2.19s\n",
      "99:\tlearn: 1.5018786\ttotal: 242ms\tremaining: 2.18s\n",
      "100:\tlearn: 1.4872632\ttotal: 243ms\tremaining: 2.16s\n",
      "101:\tlearn: 1.4769190\ttotal: 244ms\tremaining: 2.15s\n",
      "102:\tlearn: 1.4669590\ttotal: 245ms\tremaining: 2.13s\n",
      "103:\tlearn: 1.4535866\ttotal: 246ms\tremaining: 2.12s\n",
      "104:\tlearn: 1.4401821\ttotal: 247ms\tremaining: 2.1s\n",
      "105:\tlearn: 1.4274566\ttotal: 248ms\tremaining: 2.09s\n",
      "106:\tlearn: 1.4148808\ttotal: 249ms\tremaining: 2.07s\n",
      "107:\tlearn: 1.4029712\ttotal: 249ms\tremaining: 2.06s\n",
      "108:\tlearn: 1.3974779\ttotal: 250ms\tremaining: 2.05s\n",
      "109:\tlearn: 1.3846498\ttotal: 251ms\tremaining: 2.03s\n",
      "110:\tlearn: 1.3731553\ttotal: 252ms\tremaining: 2.02s\n",
      "111:\tlearn: 1.3655021\ttotal: 253ms\tremaining: 2s\n",
      "112:\tlearn: 1.3559247\ttotal: 253ms\tremaining: 1.99s\n",
      "113:\tlearn: 1.3429719\ttotal: 254ms\tremaining: 1.98s\n",
      "114:\tlearn: 1.3337358\ttotal: 255ms\tremaining: 1.96s\n",
      "115:\tlearn: 1.3241041\ttotal: 256ms\tremaining: 1.95s\n",
      "116:\tlearn: 1.3134655\ttotal: 257ms\tremaining: 1.94s\n",
      "117:\tlearn: 1.2994595\ttotal: 258ms\tremaining: 1.93s\n",
      "118:\tlearn: 1.2902164\ttotal: 259ms\tremaining: 1.91s\n",
      "119:\tlearn: 1.2814630\ttotal: 259ms\tremaining: 1.9s\n",
      "120:\tlearn: 1.2730302\ttotal: 260ms\tremaining: 1.89s\n",
      "121:\tlearn: 1.2653144\ttotal: 261ms\tremaining: 1.88s\n",
      "122:\tlearn: 1.2521921\ttotal: 262ms\tremaining: 1.87s\n",
      "123:\tlearn: 1.2415561\ttotal: 263ms\tremaining: 1.86s\n",
      "124:\tlearn: 1.2350405\ttotal: 263ms\tremaining: 1.84s\n",
      "125:\tlearn: 1.2270866\ttotal: 264ms\tremaining: 1.83s\n",
      "126:\tlearn: 1.2189420\ttotal: 265ms\tremaining: 1.82s\n",
      "127:\tlearn: 1.2119914\ttotal: 265ms\tremaining: 1.81s\n",
      "128:\tlearn: 1.2022830\ttotal: 266ms\tremaining: 1.8s\n",
      "129:\tlearn: 1.1897408\ttotal: 267ms\tremaining: 1.79s\n",
      "130:\tlearn: 1.1804339\ttotal: 268ms\tremaining: 1.78s\n",
      "131:\tlearn: 1.1699341\ttotal: 269ms\tremaining: 1.77s\n",
      "132:\tlearn: 1.1590506\ttotal: 270ms\tremaining: 1.76s\n",
      "133:\tlearn: 1.1486746\ttotal: 271ms\tremaining: 1.75s\n",
      "134:\tlearn: 1.1420011\ttotal: 272ms\tremaining: 1.74s\n",
      "135:\tlearn: 1.1365655\ttotal: 272ms\tremaining: 1.73s\n",
      "136:\tlearn: 1.1278278\ttotal: 273ms\tremaining: 1.72s\n",
      "137:\tlearn: 1.1171052\ttotal: 274ms\tremaining: 1.71s\n",
      "138:\tlearn: 1.1081716\ttotal: 275ms\tremaining: 1.7s\n",
      "139:\tlearn: 1.0996724\ttotal: 276ms\tremaining: 1.7s\n",
      "140:\tlearn: 1.0912915\ttotal: 277ms\tremaining: 1.69s\n",
      "141:\tlearn: 1.0840213\ttotal: 278ms\tremaining: 1.68s\n",
      "142:\tlearn: 1.0770345\ttotal: 279ms\tremaining: 1.67s\n",
      "143:\tlearn: 1.0692841\ttotal: 280ms\tremaining: 1.66s\n",
      "144:\tlearn: 1.0630549\ttotal: 280ms\tremaining: 1.65s\n",
      "145:\tlearn: 1.0555601\ttotal: 281ms\tremaining: 1.65s\n",
      "146:\tlearn: 1.0496944\ttotal: 282ms\tremaining: 1.64s\n",
      "147:\tlearn: 1.0432516\ttotal: 283ms\tremaining: 1.63s\n",
      "148:\tlearn: 1.0380465\ttotal: 284ms\tremaining: 1.62s\n",
      "149:\tlearn: 1.0297634\ttotal: 285ms\tremaining: 1.61s\n",
      "150:\tlearn: 1.0267572\ttotal: 285ms\tremaining: 1.6s\n",
      "151:\tlearn: 1.0186774\ttotal: 286ms\tremaining: 1.6s\n",
      "152:\tlearn: 1.0097624\ttotal: 287ms\tremaining: 1.59s\n",
      "153:\tlearn: 1.0047183\ttotal: 288ms\tremaining: 1.58s\n",
      "154:\tlearn: 0.9997957\ttotal: 288ms\tremaining: 1.57s\n",
      "155:\tlearn: 0.9908297\ttotal: 289ms\tremaining: 1.56s\n",
      "156:\tlearn: 0.9864460\ttotal: 290ms\tremaining: 1.56s\n",
      "157:\tlearn: 0.9812906\ttotal: 291ms\tremaining: 1.55s\n",
      "158:\tlearn: 0.9780003\ttotal: 292ms\tremaining: 1.54s\n",
      "159:\tlearn: 0.9753360\ttotal: 292ms\tremaining: 1.53s\n",
      "160:\tlearn: 0.9699789\ttotal: 293ms\tremaining: 1.53s\n",
      "161:\tlearn: 0.9673205\ttotal: 294ms\tremaining: 1.52s\n",
      "162:\tlearn: 0.9616802\ttotal: 295ms\tremaining: 1.51s\n",
      "163:\tlearn: 0.9563890\ttotal: 296ms\tremaining: 1.51s\n",
      "164:\tlearn: 0.9507671\ttotal: 297ms\tremaining: 1.5s\n",
      "165:\tlearn: 0.9452518\ttotal: 298ms\tremaining: 1.49s\n",
      "166:\tlearn: 0.9394648\ttotal: 298ms\tremaining: 1.49s\n",
      "167:\tlearn: 0.9337952\ttotal: 299ms\tremaining: 1.48s\n",
      "168:\tlearn: 0.9287399\ttotal: 300ms\tremaining: 1.48s\n",
      "169:\tlearn: 0.9248331\ttotal: 301ms\tremaining: 1.47s\n",
      "170:\tlearn: 0.9186429\ttotal: 302ms\tremaining: 1.46s\n",
      "171:\tlearn: 0.9143050\ttotal: 303ms\tremaining: 1.46s\n",
      "172:\tlearn: 0.9075443\ttotal: 304ms\tremaining: 1.45s\n",
      "173:\tlearn: 0.9006566\ttotal: 305ms\tremaining: 1.45s\n",
      "174:\tlearn: 0.8937265\ttotal: 305ms\tremaining: 1.44s\n",
      "175:\tlearn: 0.8900315\ttotal: 306ms\tremaining: 1.43s\n",
      "176:\tlearn: 0.8864523\ttotal: 307ms\tremaining: 1.43s\n",
      "177:\tlearn: 0.8791768\ttotal: 308ms\tremaining: 1.42s\n",
      "178:\tlearn: 0.8728690\ttotal: 309ms\tremaining: 1.42s\n",
      "179:\tlearn: 0.8697216\ttotal: 310ms\tremaining: 1.41s\n",
      "180:\tlearn: 0.8663677\ttotal: 311ms\tremaining: 1.41s\n",
      "181:\tlearn: 0.8614239\ttotal: 311ms\tremaining: 1.4s\n",
      "182:\tlearn: 0.8576148\ttotal: 312ms\tremaining: 1.39s\n",
      "183:\tlearn: 0.8546240\ttotal: 313ms\tremaining: 1.39s\n",
      "184:\tlearn: 0.8505069\ttotal: 314ms\tremaining: 1.38s\n",
      "185:\tlearn: 0.8464078\ttotal: 314ms\tremaining: 1.38s\n",
      "186:\tlearn: 0.8433099\ttotal: 315ms\tremaining: 1.37s\n",
      "187:\tlearn: 0.8362634\ttotal: 316ms\tremaining: 1.36s\n",
      "188:\tlearn: 0.8302452\ttotal: 317ms\tremaining: 1.36s\n",
      "189:\tlearn: 0.8286560\ttotal: 318ms\tremaining: 1.35s\n",
      "190:\tlearn: 0.8269192\ttotal: 318ms\tremaining: 1.35s\n",
      "191:\tlearn: 0.8236627\ttotal: 319ms\tremaining: 1.34s\n",
      "192:\tlearn: 0.8219277\ttotal: 320ms\tremaining: 1.34s\n",
      "193:\tlearn: 0.8202001\ttotal: 320ms\tremaining: 1.33s\n",
      "194:\tlearn: 0.8144639\ttotal: 321ms\tremaining: 1.33s\n",
      "195:\tlearn: 0.8098993\ttotal: 322ms\tremaining: 1.32s\n",
      "196:\tlearn: 0.8081562\ttotal: 323ms\tremaining: 1.32s\n",
      "197:\tlearn: 0.8064333\ttotal: 324ms\tremaining: 1.31s\n",
      "198:\tlearn: 0.8030123\ttotal: 325ms\tremaining: 1.31s\n",
      "199:\tlearn: 0.8006579\ttotal: 325ms\tremaining: 1.3s\n",
      "200:\tlearn: 0.7940194\ttotal: 326ms\tremaining: 1.29s\n",
      "201:\tlearn: 0.7881212\ttotal: 327ms\tremaining: 1.29s\n",
      "202:\tlearn: 0.7858820\ttotal: 327ms\tremaining: 1.28s\n",
      "203:\tlearn: 0.7808066\ttotal: 328ms\tremaining: 1.28s\n",
      "204:\tlearn: 0.7793079\ttotal: 329ms\tremaining: 1.27s\n",
      "205:\tlearn: 0.7738432\ttotal: 330ms\tremaining: 1.27s\n",
      "206:\tlearn: 0.7723261\ttotal: 330ms\tremaining: 1.27s\n",
      "207:\tlearn: 0.7698540\ttotal: 331ms\tremaining: 1.26s\n",
      "208:\tlearn: 0.7677546\ttotal: 332ms\tremaining: 1.26s\n",
      "209:\tlearn: 0.7614777\ttotal: 333ms\tremaining: 1.25s\n",
      "210:\tlearn: 0.7590613\ttotal: 334ms\tremaining: 1.25s\n",
      "211:\tlearn: 0.7566121\ttotal: 335ms\tremaining: 1.24s\n",
      "212:\tlearn: 0.7528584\ttotal: 336ms\tremaining: 1.24s\n",
      "213:\tlearn: 0.7505141\ttotal: 337ms\tremaining: 1.24s\n",
      "214:\tlearn: 0.7477200\ttotal: 337ms\tremaining: 1.23s\n",
      "215:\tlearn: 0.7456329\ttotal: 338ms\tremaining: 1.23s\n",
      "216:\tlearn: 0.7430313\ttotal: 339ms\tremaining: 1.22s\n",
      "217:\tlearn: 0.7399499\ttotal: 340ms\tremaining: 1.22s\n",
      "218:\tlearn: 0.7386014\ttotal: 341ms\tremaining: 1.22s\n",
      "219:\tlearn: 0.7352485\ttotal: 342ms\tremaining: 1.21s\n",
      "220:\tlearn: 0.7339943\ttotal: 343ms\tremaining: 1.21s\n",
      "221:\tlearn: 0.7288152\ttotal: 344ms\tremaining: 1.21s\n",
      "222:\tlearn: 0.7270326\ttotal: 345ms\tremaining: 1.2s\n",
      "223:\tlearn: 0.7258241\ttotal: 346ms\tremaining: 1.2s\n",
      "224:\tlearn: 0.7220631\ttotal: 347ms\tremaining: 1.19s\n",
      "225:\tlearn: 0.7192048\ttotal: 348ms\tremaining: 1.19s\n",
      "226:\tlearn: 0.7169371\ttotal: 348ms\tremaining: 1.19s\n",
      "227:\tlearn: 0.7124139\ttotal: 349ms\tremaining: 1.18s\n",
      "228:\tlearn: 0.7101224\ttotal: 350ms\tremaining: 1.18s\n",
      "229:\tlearn: 0.7089185\ttotal: 351ms\tremaining: 1.18s\n",
      "230:\tlearn: 0.7067651\ttotal: 352ms\tremaining: 1.17s\n",
      "231:\tlearn: 0.7042580\ttotal: 353ms\tremaining: 1.17s\n",
      "232:\tlearn: 0.6982033\ttotal: 354ms\tremaining: 1.16s\n"
     ]
    },
    {
     "name": "stdout",
     "output_type": "stream",
     "text": [
      "233:\tlearn: 0.6963347\ttotal: 355ms\tremaining: 1.16s\n",
      "234:\tlearn: 0.6942007\ttotal: 356ms\tremaining: 1.16s\n",
      "235:\tlearn: 0.6920196\ttotal: 357ms\tremaining: 1.16s\n",
      "236:\tlearn: 0.6902328\ttotal: 358ms\tremaining: 1.15s\n",
      "237:\tlearn: 0.6885304\ttotal: 359ms\tremaining: 1.15s\n",
      "238:\tlearn: 0.6868890\ttotal: 360ms\tremaining: 1.15s\n",
      "239:\tlearn: 0.6859095\ttotal: 361ms\tremaining: 1.14s\n",
      "240:\tlearn: 0.6843997\ttotal: 362ms\tremaining: 1.14s\n",
      "241:\tlearn: 0.6827112\ttotal: 363ms\tremaining: 1.14s\n",
      "242:\tlearn: 0.6810597\ttotal: 364ms\tremaining: 1.13s\n",
      "243:\tlearn: 0.6796305\ttotal: 365ms\tremaining: 1.13s\n",
      "244:\tlearn: 0.6778562\ttotal: 366ms\tremaining: 1.13s\n",
      "245:\tlearn: 0.6761690\ttotal: 367ms\tremaining: 1.13s\n",
      "246:\tlearn: 0.6752953\ttotal: 368ms\tremaining: 1.12s\n",
      "247:\tlearn: 0.6740172\ttotal: 368ms\tremaining: 1.12s\n",
      "248:\tlearn: 0.6693675\ttotal: 369ms\tremaining: 1.11s\n",
      "249:\tlearn: 0.6678745\ttotal: 370ms\tremaining: 1.11s\n",
      "250:\tlearn: 0.6632930\ttotal: 371ms\tremaining: 1.11s\n",
      "251:\tlearn: 0.6618541\ttotal: 372ms\tremaining: 1.1s\n",
      "252:\tlearn: 0.6604101\ttotal: 373ms\tremaining: 1.1s\n",
      "253:\tlearn: 0.6590054\ttotal: 374ms\tremaining: 1.1s\n",
      "254:\tlearn: 0.6576938\ttotal: 375ms\tremaining: 1.1s\n",
      "255:\tlearn: 0.6532223\ttotal: 376ms\tremaining: 1.09s\n",
      "256:\tlearn: 0.6506252\ttotal: 377ms\tremaining: 1.09s\n",
      "257:\tlearn: 0.6493776\ttotal: 378ms\tremaining: 1.09s\n",
      "258:\tlearn: 0.6481213\ttotal: 379ms\tremaining: 1.08s\n",
      "259:\tlearn: 0.6467035\ttotal: 381ms\tremaining: 1.08s\n",
      "260:\tlearn: 0.6454528\ttotal: 382ms\tremaining: 1.08s\n",
      "261:\tlearn: 0.6420088\ttotal: 384ms\tremaining: 1.08s\n",
      "262:\tlearn: 0.6406788\ttotal: 385ms\tremaining: 1.08s\n",
      "263:\tlearn: 0.6369174\ttotal: 389ms\tremaining: 1.08s\n",
      "264:\tlearn: 0.6356701\ttotal: 390ms\tremaining: 1.08s\n",
      "265:\tlearn: 0.6317724\ttotal: 391ms\tremaining: 1.08s\n",
      "266:\tlearn: 0.6306540\ttotal: 392ms\tremaining: 1.08s\n",
      "267:\tlearn: 0.6294667\ttotal: 394ms\tremaining: 1.07s\n",
      "268:\tlearn: 0.6247064\ttotal: 395ms\tremaining: 1.07s\n",
      "269:\tlearn: 0.6235512\ttotal: 396ms\tremaining: 1.07s\n",
      "270:\tlearn: 0.6186507\ttotal: 397ms\tremaining: 1.07s\n",
      "271:\tlearn: 0.6174809\ttotal: 398ms\tremaining: 1.06s\n",
      "272:\tlearn: 0.6158900\ttotal: 399ms\tremaining: 1.06s\n",
      "273:\tlearn: 0.6147803\ttotal: 400ms\tremaining: 1.06s\n",
      "274:\tlearn: 0.6107529\ttotal: 401ms\tremaining: 1.06s\n",
      "275:\tlearn: 0.6064386\ttotal: 403ms\tremaining: 1.06s\n",
      "276:\tlearn: 0.6053279\ttotal: 405ms\tremaining: 1.05s\n",
      "277:\tlearn: 0.6042572\ttotal: 406ms\tremaining: 1.05s\n",
      "278:\tlearn: 0.6031823\ttotal: 407ms\tremaining: 1.05s\n",
      "279:\tlearn: 0.6021239\ttotal: 407ms\tremaining: 1.05s\n",
      "280:\tlearn: 0.6010878\ttotal: 408ms\tremaining: 1.04s\n",
      "281:\tlearn: 0.6001066\ttotal: 409ms\tremaining: 1.04s\n",
      "282:\tlearn: 0.5991198\ttotal: 410ms\tremaining: 1.04s\n",
      "283:\tlearn: 0.5981222\ttotal: 411ms\tremaining: 1.04s\n",
      "284:\tlearn: 0.5971023\ttotal: 412ms\tremaining: 1.03s\n",
      "285:\tlearn: 0.5961862\ttotal: 413ms\tremaining: 1.03s\n",
      "286:\tlearn: 0.5952685\ttotal: 414ms\tremaining: 1.03s\n",
      "287:\tlearn: 0.5921482\ttotal: 415ms\tremaining: 1.03s\n",
      "288:\tlearn: 0.5912293\ttotal: 417ms\tremaining: 1.03s\n",
      "289:\tlearn: 0.5860731\ttotal: 419ms\tremaining: 1.03s\n",
      "290:\tlearn: 0.5821802\ttotal: 421ms\tremaining: 1.02s\n",
      "291:\tlearn: 0.5813195\ttotal: 422ms\tremaining: 1.02s\n",
      "292:\tlearn: 0.5804268\ttotal: 423ms\tremaining: 1.02s\n",
      "293:\tlearn: 0.5796512\ttotal: 424ms\tremaining: 1.02s\n",
      "294:\tlearn: 0.5759765\ttotal: 425ms\tremaining: 1.02s\n",
      "295:\tlearn: 0.5723254\ttotal: 426ms\tremaining: 1.01s\n",
      "296:\tlearn: 0.5715909\ttotal: 429ms\tremaining: 1.01s\n",
      "297:\tlearn: 0.5708071\ttotal: 430ms\tremaining: 1.01s\n",
      "298:\tlearn: 0.5699833\ttotal: 431ms\tremaining: 1.01s\n",
      "299:\tlearn: 0.5691930\ttotal: 433ms\tremaining: 1.01s\n",
      "300:\tlearn: 0.5664253\ttotal: 434ms\tremaining: 1.01s\n",
      "301:\tlearn: 0.5656740\ttotal: 435ms\tremaining: 1s\n",
      "302:\tlearn: 0.5649319\ttotal: 436ms\tremaining: 1s\n",
      "303:\tlearn: 0.5640637\ttotal: 437ms\tremaining: 1000ms\n",
      "304:\tlearn: 0.5611833\ttotal: 437ms\tremaining: 997ms\n",
      "305:\tlearn: 0.5590687\ttotal: 438ms\tremaining: 994ms\n",
      "306:\tlearn: 0.5564922\ttotal: 439ms\tremaining: 991ms\n",
      "307:\tlearn: 0.5557476\ttotal: 440ms\tremaining: 988ms\n",
      "308:\tlearn: 0.5549355\ttotal: 441ms\tremaining: 986ms\n",
      "309:\tlearn: 0.5518262\ttotal: 442ms\tremaining: 983ms\n",
      "310:\tlearn: 0.5511111\ttotal: 443ms\tremaining: 980ms\n",
      "311:\tlearn: 0.5496901\ttotal: 443ms\tremaining: 978ms\n",
      "312:\tlearn: 0.5479678\ttotal: 445ms\tremaining: 977ms\n",
      "313:\tlearn: 0.5455907\ttotal: 446ms\tremaining: 975ms\n",
      "314:\tlearn: 0.5449361\ttotal: 447ms\tremaining: 973ms\n",
      "315:\tlearn: 0.5443599\ttotal: 448ms\tremaining: 971ms\n",
      "316:\tlearn: 0.5412332\ttotal: 449ms\tremaining: 968ms\n",
      "317:\tlearn: 0.5387399\ttotal: 450ms\tremaining: 966ms\n",
      "318:\tlearn: 0.5381214\ttotal: 451ms\tremaining: 963ms\n",
      "319:\tlearn: 0.5356255\ttotal: 452ms\tremaining: 961ms\n",
      "320:\tlearn: 0.5332392\ttotal: 453ms\tremaining: 958ms\n",
      "321:\tlearn: 0.5302817\ttotal: 454ms\tremaining: 956ms\n",
      "322:\tlearn: 0.5297339\ttotal: 455ms\tremaining: 953ms\n",
      "323:\tlearn: 0.5271596\ttotal: 456ms\tremaining: 951ms\n",
      "324:\tlearn: 0.5265759\ttotal: 457ms\tremaining: 948ms\n",
      "325:\tlearn: 0.5234811\ttotal: 457ms\tremaining: 946ms\n",
      "326:\tlearn: 0.5228051\ttotal: 458ms\tremaining: 943ms\n",
      "327:\tlearn: 0.5204513\ttotal: 459ms\tremaining: 941ms\n",
      "328:\tlearn: 0.5180082\ttotal: 460ms\tremaining: 939ms\n",
      "329:\tlearn: 0.5160993\ttotal: 461ms\tremaining: 936ms\n",
      "330:\tlearn: 0.5155596\ttotal: 462ms\tremaining: 934ms\n",
      "331:\tlearn: 0.5134069\ttotal: 463ms\tremaining: 932ms\n",
      "332:\tlearn: 0.5114773\ttotal: 464ms\tremaining: 929ms\n",
      "333:\tlearn: 0.5109960\ttotal: 465ms\tremaining: 927ms\n",
      "334:\tlearn: 0.5105386\ttotal: 466ms\tremaining: 924ms\n",
      "335:\tlearn: 0.5091243\ttotal: 466ms\tremaining: 922ms\n",
      "336:\tlearn: 0.5070473\ttotal: 467ms\tremaining: 919ms\n",
      "337:\tlearn: 0.5048413\ttotal: 468ms\tremaining: 917ms\n",
      "338:\tlearn: 0.5027392\ttotal: 469ms\tremaining: 915ms\n",
      "339:\tlearn: 0.5009032\ttotal: 470ms\tremaining: 912ms\n",
      "340:\tlearn: 0.4988693\ttotal: 471ms\tremaining: 910ms\n",
      "341:\tlearn: 0.4966449\ttotal: 472ms\tremaining: 908ms\n",
      "342:\tlearn: 0.4948055\ttotal: 473ms\tremaining: 905ms\n",
      "343:\tlearn: 0.4929868\ttotal: 474ms\tremaining: 903ms\n",
      "344:\tlearn: 0.4923988\ttotal: 475ms\tremaining: 901ms\n",
      "345:\tlearn: 0.4900962\ttotal: 475ms\tremaining: 899ms\n",
      "346:\tlearn: 0.4880690\ttotal: 476ms\tremaining: 896ms\n",
      "347:\tlearn: 0.4876388\ttotal: 477ms\tremaining: 894ms\n",
      "348:\tlearn: 0.4864233\ttotal: 478ms\tremaining: 892ms\n",
      "349:\tlearn: 0.4856352\ttotal: 479ms\tremaining: 890ms\n",
      "350:\tlearn: 0.4822812\ttotal: 480ms\tremaining: 887ms\n",
      "351:\tlearn: 0.4818138\ttotal: 481ms\tremaining: 885ms\n",
      "352:\tlearn: 0.4800996\ttotal: 482ms\tremaining: 883ms\n",
      "353:\tlearn: 0.4797113\ttotal: 482ms\tremaining: 880ms\n",
      "354:\tlearn: 0.4776241\ttotal: 483ms\tremaining: 878ms\n",
      "355:\tlearn: 0.4749260\ttotal: 484ms\tremaining: 876ms\n",
      "356:\tlearn: 0.4731365\ttotal: 485ms\tremaining: 874ms\n",
      "357:\tlearn: 0.4715120\ttotal: 486ms\tremaining: 871ms\n",
      "358:\tlearn: 0.4698768\ttotal: 487ms\tremaining: 869ms\n",
      "359:\tlearn: 0.4675316\ttotal: 488ms\tremaining: 867ms\n",
      "360:\tlearn: 0.4656454\ttotal: 489ms\tremaining: 865ms\n",
      "361:\tlearn: 0.4652171\ttotal: 490ms\tremaining: 863ms\n",
      "362:\tlearn: 0.4637187\ttotal: 490ms\tremaining: 861ms\n",
      "363:\tlearn: 0.4626497\ttotal: 491ms\tremaining: 858ms\n",
      "364:\tlearn: 0.4611182\ttotal: 492ms\tremaining: 856ms\n",
      "365:\tlearn: 0.4594788\ttotal: 493ms\tremaining: 854ms\n",
      "366:\tlearn: 0.4577788\ttotal: 494ms\tremaining: 852ms\n",
      "367:\tlearn: 0.4559499\ttotal: 495ms\tremaining: 850ms\n",
      "368:\tlearn: 0.4544547\ttotal: 496ms\tremaining: 848ms\n",
      "369:\tlearn: 0.4528329\ttotal: 497ms\tremaining: 845ms\n",
      "370:\tlearn: 0.4524110\ttotal: 497ms\tremaining: 843ms\n",
      "371:\tlearn: 0.4516028\ttotal: 498ms\tremaining: 841ms\n",
      "372:\tlearn: 0.4503593\ttotal: 499ms\tremaining: 839ms\n",
      "373:\tlearn: 0.4486991\ttotal: 500ms\tremaining: 837ms\n",
      "374:\tlearn: 0.4470058\ttotal: 501ms\tremaining: 835ms\n",
      "375:\tlearn: 0.4453257\ttotal: 502ms\tremaining: 833ms\n",
      "376:\tlearn: 0.4450713\ttotal: 503ms\tremaining: 832ms\n",
      "377:\tlearn: 0.4444674\ttotal: 504ms\tremaining: 830ms\n",
      "378:\tlearn: 0.4431430\ttotal: 505ms\tremaining: 828ms\n",
      "379:\tlearn: 0.4418494\ttotal: 506ms\tremaining: 826ms\n",
      "380:\tlearn: 0.4403581\ttotal: 507ms\tremaining: 824ms\n",
      "381:\tlearn: 0.4391278\ttotal: 508ms\tremaining: 822ms\n",
      "382:\tlearn: 0.4377179\ttotal: 509ms\tremaining: 820ms\n",
      "383:\tlearn: 0.4370614\ttotal: 510ms\tremaining: 818ms\n",
      "384:\tlearn: 0.4367174\ttotal: 511ms\tremaining: 816ms\n",
      "385:\tlearn: 0.4351613\ttotal: 512ms\tremaining: 814ms\n",
      "386:\tlearn: 0.4340315\ttotal: 513ms\tremaining: 812ms\n",
      "387:\tlearn: 0.4333854\ttotal: 514ms\tremaining: 810ms\n",
      "388:\tlearn: 0.4330485\ttotal: 514ms\tremaining: 808ms\n",
      "389:\tlearn: 0.4317001\ttotal: 515ms\tremaining: 806ms\n",
      "390:\tlearn: 0.4313010\ttotal: 516ms\tremaining: 804ms\n",
      "391:\tlearn: 0.4301952\ttotal: 517ms\tremaining: 802ms\n",
      "392:\tlearn: 0.4290043\ttotal: 518ms\tremaining: 801ms\n",
      "393:\tlearn: 0.4272414\ttotal: 519ms\tremaining: 799ms\n",
      "394:\tlearn: 0.4256824\ttotal: 520ms\tremaining: 797ms\n",
      "395:\tlearn: 0.4244535\ttotal: 521ms\tremaining: 795ms\n",
      "396:\tlearn: 0.4239691\ttotal: 522ms\tremaining: 793ms\n",
      "397:\tlearn: 0.4237151\ttotal: 523ms\tremaining: 791ms\n",
      "398:\tlearn: 0.4231372\ttotal: 524ms\tremaining: 789ms\n",
      "399:\tlearn: 0.4218133\ttotal: 525ms\tremaining: 788ms\n",
      "400:\tlearn: 0.4204830\ttotal: 526ms\tremaining: 786ms\n",
      "401:\tlearn: 0.4193809\ttotal: 527ms\tremaining: 784ms\n",
      "402:\tlearn: 0.4182692\ttotal: 528ms\tremaining: 782ms\n",
      "403:\tlearn: 0.4175734\ttotal: 529ms\tremaining: 780ms\n",
      "404:\tlearn: 0.4166200\ttotal: 529ms\tremaining: 778ms\n",
      "405:\tlearn: 0.4155917\ttotal: 530ms\tremaining: 776ms\n"
     ]
    },
    {
     "name": "stdout",
     "output_type": "stream",
     "text": [
      "406:\tlearn: 0.4152461\ttotal: 532ms\tremaining: 776ms\n",
      "407:\tlearn: 0.4140096\ttotal: 534ms\tremaining: 775ms\n",
      "408:\tlearn: 0.4128793\ttotal: 535ms\tremaining: 774ms\n",
      "409:\tlearn: 0.4118298\ttotal: 537ms\tremaining: 772ms\n",
      "410:\tlearn: 0.4104465\ttotal: 537ms\tremaining: 770ms\n",
      "411:\tlearn: 0.4089917\ttotal: 539ms\tremaining: 769ms\n",
      "412:\tlearn: 0.4079695\ttotal: 539ms\tremaining: 767ms\n",
      "413:\tlearn: 0.4067857\ttotal: 540ms\tremaining: 765ms\n",
      "414:\tlearn: 0.4057550\ttotal: 541ms\tremaining: 763ms\n",
      "415:\tlearn: 0.4049901\ttotal: 542ms\tremaining: 761ms\n",
      "416:\tlearn: 0.4039782\ttotal: 543ms\tremaining: 759ms\n",
      "417:\tlearn: 0.4028727\ttotal: 544ms\tremaining: 758ms\n",
      "418:\tlearn: 0.4015565\ttotal: 545ms\tremaining: 756ms\n",
      "419:\tlearn: 0.4005392\ttotal: 546ms\tremaining: 754ms\n",
      "420:\tlearn: 0.3995573\ttotal: 547ms\tremaining: 752ms\n",
      "421:\tlearn: 0.3989450\ttotal: 548ms\tremaining: 751ms\n",
      "422:\tlearn: 0.3983259\ttotal: 549ms\tremaining: 749ms\n",
      "423:\tlearn: 0.3975807\ttotal: 550ms\tremaining: 747ms\n",
      "424:\tlearn: 0.3969108\ttotal: 551ms\tremaining: 745ms\n",
      "425:\tlearn: 0.3962586\ttotal: 552ms\tremaining: 744ms\n",
      "426:\tlearn: 0.3949375\ttotal: 553ms\tremaining: 742ms\n",
      "427:\tlearn: 0.3946742\ttotal: 554ms\tremaining: 741ms\n",
      "428:\tlearn: 0.3941224\ttotal: 555ms\tremaining: 739ms\n",
      "429:\tlearn: 0.3934079\ttotal: 556ms\tremaining: 737ms\n",
      "430:\tlearn: 0.3926039\ttotal: 558ms\tremaining: 736ms\n",
      "431:\tlearn: 0.3923566\ttotal: 559ms\tremaining: 735ms\n",
      "432:\tlearn: 0.3913702\ttotal: 560ms\tremaining: 733ms\n",
      "433:\tlearn: 0.3907312\ttotal: 561ms\tremaining: 731ms\n",
      "434:\tlearn: 0.3898984\ttotal: 562ms\tremaining: 730ms\n",
      "435:\tlearn: 0.3892983\ttotal: 564ms\tremaining: 730ms\n",
      "436:\tlearn: 0.3884198\ttotal: 566ms\tremaining: 729ms\n",
      "437:\tlearn: 0.3878601\ttotal: 568ms\tremaining: 729ms\n",
      "438:\tlearn: 0.3873203\ttotal: 569ms\tremaining: 728ms\n",
      "439:\tlearn: 0.3860865\ttotal: 570ms\tremaining: 726ms\n",
      "440:\tlearn: 0.3859782\ttotal: 571ms\tremaining: 724ms\n",
      "441:\tlearn: 0.3849816\ttotal: 572ms\tremaining: 723ms\n",
      "442:\tlearn: 0.3842264\ttotal: 573ms\tremaining: 721ms\n",
      "443:\tlearn: 0.3837949\ttotal: 574ms\tremaining: 719ms\n",
      "444:\tlearn: 0.3827232\ttotal: 575ms\tremaining: 717ms\n",
      "445:\tlearn: 0.3821098\ttotal: 577ms\tremaining: 717ms\n",
      "446:\tlearn: 0.3819003\ttotal: 579ms\tremaining: 716ms\n",
      "447:\tlearn: 0.3817088\ttotal: 580ms\tremaining: 715ms\n",
      "448:\tlearn: 0.3811021\ttotal: 581ms\tremaining: 713ms\n",
      "449:\tlearn: 0.3807956\ttotal: 582ms\tremaining: 711ms\n",
      "450:\tlearn: 0.3802832\ttotal: 583ms\tremaining: 710ms\n",
      "451:\tlearn: 0.3795873\ttotal: 584ms\tremaining: 708ms\n",
      "452:\tlearn: 0.3784027\ttotal: 585ms\tremaining: 707ms\n",
      "453:\tlearn: 0.3776742\ttotal: 586ms\tremaining: 705ms\n",
      "454:\tlearn: 0.3764674\ttotal: 587ms\tremaining: 703ms\n",
      "455:\tlearn: 0.3758457\ttotal: 588ms\tremaining: 701ms\n",
      "456:\tlearn: 0.3753246\ttotal: 589ms\tremaining: 700ms\n",
      "457:\tlearn: 0.3751476\ttotal: 590ms\tremaining: 698ms\n",
      "458:\tlearn: 0.3743015\ttotal: 591ms\tremaining: 697ms\n",
      "459:\tlearn: 0.3734344\ttotal: 592ms\tremaining: 695ms\n",
      "460:\tlearn: 0.3723081\ttotal: 593ms\tremaining: 694ms\n",
      "461:\tlearn: 0.3713514\ttotal: 594ms\tremaining: 692ms\n",
      "462:\tlearn: 0.3702863\ttotal: 595ms\tremaining: 690ms\n",
      "463:\tlearn: 0.3700616\ttotal: 596ms\tremaining: 688ms\n",
      "464:\tlearn: 0.3696278\ttotal: 597ms\tremaining: 687ms\n",
      "465:\tlearn: 0.3693173\ttotal: 598ms\tremaining: 685ms\n",
      "466:\tlearn: 0.3684123\ttotal: 599ms\tremaining: 683ms\n",
      "467:\tlearn: 0.3683306\ttotal: 600ms\tremaining: 682ms\n",
      "468:\tlearn: 0.3679343\ttotal: 600ms\tremaining: 680ms\n",
      "469:\tlearn: 0.3670598\ttotal: 601ms\tremaining: 678ms\n",
      "470:\tlearn: 0.3663560\ttotal: 602ms\tremaining: 676ms\n",
      "471:\tlearn: 0.3660269\ttotal: 603ms\tremaining: 675ms\n",
      "472:\tlearn: 0.3652375\ttotal: 604ms\tremaining: 673ms\n",
      "473:\tlearn: 0.3647929\ttotal: 605ms\tremaining: 672ms\n",
      "474:\tlearn: 0.3644843\ttotal: 606ms\tremaining: 670ms\n",
      "475:\tlearn: 0.3637725\ttotal: 607ms\tremaining: 669ms\n",
      "476:\tlearn: 0.3635368\ttotal: 608ms\tremaining: 667ms\n",
      "477:\tlearn: 0.3632451\ttotal: 609ms\tremaining: 665ms\n",
      "478:\tlearn: 0.3630467\ttotal: 610ms\tremaining: 664ms\n",
      "479:\tlearn: 0.3627171\ttotal: 611ms\tremaining: 662ms\n",
      "480:\tlearn: 0.3618690\ttotal: 612ms\tremaining: 660ms\n",
      "481:\tlearn: 0.3612334\ttotal: 613ms\tremaining: 659ms\n",
      "482:\tlearn: 0.3606391\ttotal: 614ms\tremaining: 657ms\n",
      "483:\tlearn: 0.3600681\ttotal: 615ms\tremaining: 655ms\n",
      "484:\tlearn: 0.3598813\ttotal: 616ms\tremaining: 654ms\n",
      "485:\tlearn: 0.3592515\ttotal: 617ms\tremaining: 652ms\n",
      "486:\tlearn: 0.3588983\ttotal: 617ms\tremaining: 650ms\n",
      "487:\tlearn: 0.3581085\ttotal: 618ms\tremaining: 649ms\n",
      "488:\tlearn: 0.3574679\ttotal: 620ms\tremaining: 648ms\n",
      "489:\tlearn: 0.3567943\ttotal: 621ms\tremaining: 646ms\n",
      "490:\tlearn: 0.3561112\ttotal: 622ms\tremaining: 644ms\n",
      "491:\tlearn: 0.3559818\ttotal: 622ms\tremaining: 643ms\n",
      "492:\tlearn: 0.3555730\ttotal: 623ms\tremaining: 641ms\n",
      "493:\tlearn: 0.3548861\ttotal: 624ms\tremaining: 639ms\n",
      "494:\tlearn: 0.3539248\ttotal: 625ms\tremaining: 638ms\n",
      "495:\tlearn: 0.3527134\ttotal: 626ms\tremaining: 636ms\n",
      "496:\tlearn: 0.3519270\ttotal: 628ms\tremaining: 635ms\n",
      "497:\tlearn: 0.3516325\ttotal: 628ms\tremaining: 633ms\n",
      "498:\tlearn: 0.3506110\ttotal: 629ms\tremaining: 632ms\n",
      "499:\tlearn: 0.3499688\ttotal: 630ms\tremaining: 630ms\n",
      "500:\tlearn: 0.3496871\ttotal: 631ms\tremaining: 628ms\n",
      "501:\tlearn: 0.3490981\ttotal: 632ms\tremaining: 627ms\n",
      "502:\tlearn: 0.3478925\ttotal: 633ms\tremaining: 626ms\n",
      "503:\tlearn: 0.3473150\ttotal: 634ms\tremaining: 624ms\n",
      "504:\tlearn: 0.3468001\ttotal: 636ms\tremaining: 623ms\n",
      "505:\tlearn: 0.3460541\ttotal: 636ms\tremaining: 621ms\n",
      "506:\tlearn: 0.3458496\ttotal: 637ms\tremaining: 620ms\n",
      "507:\tlearn: 0.3447003\ttotal: 638ms\tremaining: 618ms\n",
      "508:\tlearn: 0.3444610\ttotal: 639ms\tremaining: 616ms\n",
      "509:\tlearn: 0.3437319\ttotal: 640ms\tremaining: 615ms\n",
      "510:\tlearn: 0.3429763\ttotal: 641ms\tremaining: 613ms\n",
      "511:\tlearn: 0.3424902\ttotal: 642ms\tremaining: 612ms\n",
      "512:\tlearn: 0.3418175\ttotal: 643ms\tremaining: 610ms\n",
      "513:\tlearn: 0.3415466\ttotal: 644ms\tremaining: 609ms\n",
      "514:\tlearn: 0.3408123\ttotal: 645ms\tremaining: 607ms\n",
      "515:\tlearn: 0.3404352\ttotal: 645ms\tremaining: 605ms\n",
      "516:\tlearn: 0.3402030\ttotal: 646ms\tremaining: 604ms\n",
      "517:\tlearn: 0.3395731\ttotal: 647ms\tremaining: 602ms\n",
      "518:\tlearn: 0.3387821\ttotal: 648ms\tremaining: 601ms\n",
      "519:\tlearn: 0.3374367\ttotal: 649ms\tremaining: 599ms\n",
      "520:\tlearn: 0.3368846\ttotal: 650ms\tremaining: 598ms\n",
      "521:\tlearn: 0.3367111\ttotal: 651ms\tremaining: 596ms\n",
      "522:\tlearn: 0.3356057\ttotal: 652ms\tremaining: 595ms\n",
      "523:\tlearn: 0.3353389\ttotal: 653ms\tremaining: 593ms\n",
      "524:\tlearn: 0.3351223\ttotal: 654ms\tremaining: 592ms\n",
      "525:\tlearn: 0.3344953\ttotal: 655ms\tremaining: 590ms\n",
      "526:\tlearn: 0.3333857\ttotal: 656ms\tremaining: 589ms\n",
      "527:\tlearn: 0.3328978\ttotal: 657ms\tremaining: 587ms\n",
      "528:\tlearn: 0.3320913\ttotal: 658ms\tremaining: 585ms\n",
      "529:\tlearn: 0.3315530\ttotal: 658ms\tremaining: 584ms\n",
      "530:\tlearn: 0.3305127\ttotal: 660ms\tremaining: 583ms\n",
      "531:\tlearn: 0.3294770\ttotal: 660ms\tremaining: 581ms\n",
      "532:\tlearn: 0.3289725\ttotal: 661ms\tremaining: 579ms\n",
      "533:\tlearn: 0.3287514\ttotal: 662ms\tremaining: 578ms\n",
      "534:\tlearn: 0.3283875\ttotal: 664ms\tremaining: 577ms\n",
      "535:\tlearn: 0.3274052\ttotal: 665ms\tremaining: 575ms\n",
      "536:\tlearn: 0.3267076\ttotal: 666ms\tremaining: 574ms\n",
      "537:\tlearn: 0.3260264\ttotal: 666ms\tremaining: 572ms\n",
      "538:\tlearn: 0.3250477\ttotal: 667ms\tremaining: 571ms\n",
      "539:\tlearn: 0.3241218\ttotal: 668ms\tremaining: 569ms\n",
      "540:\tlearn: 0.3234297\ttotal: 669ms\tremaining: 568ms\n",
      "541:\tlearn: 0.3230588\ttotal: 670ms\tremaining: 566ms\n",
      "542:\tlearn: 0.3222072\ttotal: 671ms\tremaining: 565ms\n",
      "543:\tlearn: 0.3215918\ttotal: 672ms\tremaining: 563ms\n",
      "544:\tlearn: 0.3213782\ttotal: 673ms\tremaining: 561ms\n",
      "545:\tlearn: 0.3209072\ttotal: 674ms\tremaining: 560ms\n",
      "546:\tlearn: 0.3201581\ttotal: 675ms\tremaining: 559ms\n",
      "547:\tlearn: 0.3198271\ttotal: 676ms\tremaining: 557ms\n",
      "548:\tlearn: 0.3189440\ttotal: 677ms\tremaining: 556ms\n",
      "549:\tlearn: 0.3180051\ttotal: 678ms\tremaining: 555ms\n",
      "550:\tlearn: 0.3178693\ttotal: 679ms\tremaining: 553ms\n",
      "551:\tlearn: 0.3174889\ttotal: 680ms\tremaining: 551ms\n",
      "552:\tlearn: 0.3167300\ttotal: 681ms\tremaining: 550ms\n",
      "553:\tlearn: 0.3165363\ttotal: 682ms\tremaining: 549ms\n",
      "554:\tlearn: 0.3163418\ttotal: 683ms\tremaining: 547ms\n",
      "555:\tlearn: 0.3153709\ttotal: 683ms\tremaining: 546ms\n",
      "556:\tlearn: 0.3148696\ttotal: 684ms\tremaining: 544ms\n",
      "557:\tlearn: 0.3142902\ttotal: 685ms\tremaining: 543ms\n",
      "558:\tlearn: 0.3134836\ttotal: 686ms\tremaining: 541ms\n",
      "559:\tlearn: 0.3124244\ttotal: 687ms\tremaining: 540ms\n",
      "560:\tlearn: 0.3118523\ttotal: 688ms\tremaining: 538ms\n",
      "561:\tlearn: 0.3111593\ttotal: 689ms\tremaining: 537ms\n",
      "562:\tlearn: 0.3109647\ttotal: 690ms\tremaining: 535ms\n",
      "563:\tlearn: 0.3099395\ttotal: 691ms\tremaining: 534ms\n",
      "564:\tlearn: 0.3097469\ttotal: 691ms\tremaining: 532ms\n",
      "565:\tlearn: 0.3093961\ttotal: 693ms\tremaining: 531ms\n",
      "566:\tlearn: 0.3092783\ttotal: 694ms\tremaining: 530ms\n",
      "567:\tlearn: 0.3087258\ttotal: 695ms\tremaining: 528ms\n",
      "568:\tlearn: 0.3084339\ttotal: 696ms\tremaining: 527ms\n",
      "569:\tlearn: 0.3083130\ttotal: 696ms\tremaining: 525ms\n",
      "570:\tlearn: 0.3072080\ttotal: 697ms\tremaining: 524ms\n",
      "571:\tlearn: 0.3062284\ttotal: 698ms\tremaining: 522ms\n",
      "572:\tlearn: 0.3058508\ttotal: 699ms\tremaining: 521ms\n",
      "573:\tlearn: 0.3050608\ttotal: 700ms\tremaining: 520ms\n",
      "574:\tlearn: 0.3045753\ttotal: 701ms\tremaining: 518ms\n",
      "575:\tlearn: 0.3040463\ttotal: 702ms\tremaining: 517ms\n",
      "576:\tlearn: 0.3035450\ttotal: 703ms\tremaining: 515ms\n",
      "577:\tlearn: 0.3033031\ttotal: 704ms\tremaining: 514ms\n",
      "578:\tlearn: 0.3026400\ttotal: 705ms\tremaining: 512ms\n",
      "579:\tlearn: 0.3023159\ttotal: 706ms\tremaining: 511ms\n"
     ]
    },
    {
     "name": "stdout",
     "output_type": "stream",
     "text": [
      "580:\tlearn: 0.3014916\ttotal: 707ms\tremaining: 510ms\n",
      "581:\tlearn: 0.3008556\ttotal: 709ms\tremaining: 509ms\n",
      "582:\tlearn: 0.3006330\ttotal: 710ms\tremaining: 508ms\n",
      "583:\tlearn: 0.3001979\ttotal: 711ms\tremaining: 507ms\n",
      "584:\tlearn: 0.2992016\ttotal: 712ms\tremaining: 505ms\n",
      "585:\tlearn: 0.2986582\ttotal: 713ms\tremaining: 504ms\n",
      "586:\tlearn: 0.2984768\ttotal: 714ms\tremaining: 502ms\n",
      "587:\tlearn: 0.2982128\ttotal: 715ms\tremaining: 501ms\n",
      "588:\tlearn: 0.2973986\ttotal: 716ms\tremaining: 500ms\n",
      "589:\tlearn: 0.2967789\ttotal: 717ms\tremaining: 498ms\n",
      "590:\tlearn: 0.2966490\ttotal: 718ms\tremaining: 497ms\n",
      "591:\tlearn: 0.2961904\ttotal: 719ms\tremaining: 495ms\n",
      "592:\tlearn: 0.2955787\ttotal: 720ms\tremaining: 494ms\n",
      "593:\tlearn: 0.2952209\ttotal: 721ms\tremaining: 493ms\n",
      "594:\tlearn: 0.2949329\ttotal: 722ms\tremaining: 492ms\n",
      "595:\tlearn: 0.2944386\ttotal: 724ms\tremaining: 491ms\n",
      "596:\tlearn: 0.2941350\ttotal: 725ms\tremaining: 489ms\n",
      "597:\tlearn: 0.2935018\ttotal: 726ms\tremaining: 488ms\n",
      "598:\tlearn: 0.2925752\ttotal: 727ms\tremaining: 487ms\n",
      "599:\tlearn: 0.2923464\ttotal: 728ms\tremaining: 485ms\n",
      "600:\tlearn: 0.2912718\ttotal: 729ms\tremaining: 484ms\n",
      "601:\tlearn: 0.2905978\ttotal: 730ms\tremaining: 483ms\n",
      "602:\tlearn: 0.2897053\ttotal: 731ms\tremaining: 481ms\n",
      "603:\tlearn: 0.2895806\ttotal: 732ms\tremaining: 480ms\n",
      "604:\tlearn: 0.2892079\ttotal: 733ms\tremaining: 479ms\n",
      "605:\tlearn: 0.2889269\ttotal: 735ms\tremaining: 478ms\n",
      "606:\tlearn: 0.2884689\ttotal: 736ms\tremaining: 476ms\n",
      "607:\tlearn: 0.2877029\ttotal: 737ms\tremaining: 475ms\n",
      "608:\tlearn: 0.2869571\ttotal: 740ms\tremaining: 475ms\n",
      "609:\tlearn: 0.2865850\ttotal: 741ms\tremaining: 474ms\n",
      "610:\tlearn: 0.2861912\ttotal: 742ms\tremaining: 473ms\n",
      "611:\tlearn: 0.2857038\ttotal: 743ms\tremaining: 471ms\n",
      "612:\tlearn: 0.2848753\ttotal: 744ms\tremaining: 470ms\n",
      "613:\tlearn: 0.2846980\ttotal: 745ms\tremaining: 468ms\n",
      "614:\tlearn: 0.2840545\ttotal: 746ms\tremaining: 467ms\n",
      "615:\tlearn: 0.2836500\ttotal: 747ms\tremaining: 466ms\n",
      "616:\tlearn: 0.2832902\ttotal: 748ms\tremaining: 464ms\n",
      "617:\tlearn: 0.2832553\ttotal: 749ms\tremaining: 463ms\n",
      "618:\tlearn: 0.2824384\ttotal: 751ms\tremaining: 462ms\n",
      "619:\tlearn: 0.2816593\ttotal: 752ms\tremaining: 461ms\n",
      "620:\tlearn: 0.2813684\ttotal: 753ms\tremaining: 460ms\n",
      "621:\tlearn: 0.2810356\ttotal: 754ms\tremaining: 458ms\n",
      "622:\tlearn: 0.2801241\ttotal: 755ms\tremaining: 457ms\n",
      "623:\tlearn: 0.2798505\ttotal: 756ms\tremaining: 455ms\n",
      "624:\tlearn: 0.2795557\ttotal: 756ms\tremaining: 454ms\n",
      "625:\tlearn: 0.2793533\ttotal: 758ms\tremaining: 453ms\n",
      "626:\tlearn: 0.2787534\ttotal: 759ms\tremaining: 451ms\n",
      "627:\tlearn: 0.2778806\ttotal: 759ms\tremaining: 450ms\n",
      "628:\tlearn: 0.2775880\ttotal: 760ms\tremaining: 448ms\n",
      "629:\tlearn: 0.2771211\ttotal: 761ms\tremaining: 447ms\n",
      "630:\tlearn: 0.2764628\ttotal: 762ms\tremaining: 446ms\n",
      "631:\tlearn: 0.2760206\ttotal: 763ms\tremaining: 444ms\n",
      "632:\tlearn: 0.2751393\ttotal: 765ms\tremaining: 443ms\n",
      "633:\tlearn: 0.2745295\ttotal: 766ms\tremaining: 442ms\n",
      "634:\tlearn: 0.2739447\ttotal: 767ms\tremaining: 441ms\n",
      "635:\tlearn: 0.2738040\ttotal: 768ms\tremaining: 439ms\n",
      "636:\tlearn: 0.2733933\ttotal: 768ms\tremaining: 438ms\n",
      "637:\tlearn: 0.2727206\ttotal: 769ms\tremaining: 437ms\n",
      "638:\tlearn: 0.2724197\ttotal: 770ms\tremaining: 435ms\n",
      "639:\tlearn: 0.2721054\ttotal: 771ms\tremaining: 434ms\n",
      "640:\tlearn: 0.2719666\ttotal: 772ms\tremaining: 433ms\n",
      "641:\tlearn: 0.2716916\ttotal: 773ms\tremaining: 431ms\n",
      "642:\tlearn: 0.2711399\ttotal: 774ms\tremaining: 430ms\n",
      "643:\tlearn: 0.2709679\ttotal: 775ms\tremaining: 428ms\n",
      "644:\tlearn: 0.2705715\ttotal: 776ms\tremaining: 427ms\n",
      "645:\tlearn: 0.2702800\ttotal: 777ms\tremaining: 426ms\n",
      "646:\tlearn: 0.2700526\ttotal: 778ms\tremaining: 424ms\n",
      "647:\tlearn: 0.2695538\ttotal: 779ms\tremaining: 423ms\n",
      "648:\tlearn: 0.2692753\ttotal: 780ms\tremaining: 422ms\n",
      "649:\tlearn: 0.2692555\ttotal: 781ms\tremaining: 420ms\n",
      "650:\tlearn: 0.2687713\ttotal: 782ms\tremaining: 419ms\n",
      "651:\tlearn: 0.2680586\ttotal: 782ms\tremaining: 418ms\n",
      "652:\tlearn: 0.2677035\ttotal: 783ms\tremaining: 416ms\n",
      "653:\tlearn: 0.2671951\ttotal: 785ms\tremaining: 415ms\n",
      "654:\tlearn: 0.2667598\ttotal: 786ms\tremaining: 414ms\n",
      "655:\tlearn: 0.2661618\ttotal: 787ms\tremaining: 413ms\n",
      "656:\tlearn: 0.2656498\ttotal: 788ms\tremaining: 411ms\n",
      "657:\tlearn: 0.2656306\ttotal: 789ms\tremaining: 410ms\n",
      "658:\tlearn: 0.2652857\ttotal: 790ms\tremaining: 409ms\n",
      "659:\tlearn: 0.2650949\ttotal: 791ms\tremaining: 407ms\n",
      "660:\tlearn: 0.2648477\ttotal: 791ms\tremaining: 406ms\n",
      "661:\tlearn: 0.2646329\ttotal: 792ms\tremaining: 405ms\n",
      "662:\tlearn: 0.2644380\ttotal: 794ms\tremaining: 403ms\n",
      "663:\tlearn: 0.2641803\ttotal: 794ms\tremaining: 402ms\n",
      "664:\tlearn: 0.2641303\ttotal: 795ms\tremaining: 401ms\n",
      "665:\tlearn: 0.2635960\ttotal: 796ms\tremaining: 399ms\n",
      "666:\tlearn: 0.2633499\ttotal: 797ms\tremaining: 398ms\n",
      "667:\tlearn: 0.2629924\ttotal: 798ms\tremaining: 397ms\n",
      "668:\tlearn: 0.2627954\ttotal: 799ms\tremaining: 395ms\n",
      "669:\tlearn: 0.2624404\ttotal: 800ms\tremaining: 394ms\n",
      "670:\tlearn: 0.2624255\ttotal: 801ms\tremaining: 393ms\n",
      "671:\tlearn: 0.2619547\ttotal: 801ms\tremaining: 391ms\n",
      "672:\tlearn: 0.2613701\ttotal: 802ms\tremaining: 390ms\n",
      "673:\tlearn: 0.2606949\ttotal: 803ms\tremaining: 389ms\n",
      "674:\tlearn: 0.2602494\ttotal: 804ms\tremaining: 387ms\n",
      "675:\tlearn: 0.2599139\ttotal: 805ms\tremaining: 386ms\n",
      "676:\tlearn: 0.2592332\ttotal: 806ms\tremaining: 385ms\n",
      "677:\tlearn: 0.2590742\ttotal: 808ms\tremaining: 384ms\n",
      "678:\tlearn: 0.2587157\ttotal: 810ms\tremaining: 383ms\n",
      "679:\tlearn: 0.2581353\ttotal: 812ms\tremaining: 382ms\n",
      "680:\tlearn: 0.2579025\ttotal: 813ms\tremaining: 381ms\n",
      "681:\tlearn: 0.2571965\ttotal: 814ms\tremaining: 380ms\n",
      "682:\tlearn: 0.2568578\ttotal: 816ms\tremaining: 379ms\n",
      "683:\tlearn: 0.2564910\ttotal: 817ms\tremaining: 377ms\n",
      "684:\tlearn: 0.2562617\ttotal: 818ms\tremaining: 376ms\n",
      "685:\tlearn: 0.2559150\ttotal: 820ms\tremaining: 375ms\n",
      "686:\tlearn: 0.2553901\ttotal: 821ms\tremaining: 374ms\n",
      "687:\tlearn: 0.2552983\ttotal: 823ms\tremaining: 373ms\n",
      "688:\tlearn: 0.2548505\ttotal: 824ms\tremaining: 372ms\n",
      "689:\tlearn: 0.2546100\ttotal: 826ms\tremaining: 371ms\n",
      "690:\tlearn: 0.2545607\ttotal: 827ms\tremaining: 370ms\n",
      "691:\tlearn: 0.2543294\ttotal: 828ms\tremaining: 369ms\n",
      "692:\tlearn: 0.2540498\ttotal: 830ms\tremaining: 368ms\n",
      "693:\tlearn: 0.2535025\ttotal: 831ms\tremaining: 366ms\n",
      "694:\tlearn: 0.2532395\ttotal: 832ms\tremaining: 365ms\n",
      "695:\tlearn: 0.2532202\ttotal: 834ms\tremaining: 364ms\n",
      "696:\tlearn: 0.2528031\ttotal: 835ms\tremaining: 363ms\n",
      "697:\tlearn: 0.2525007\ttotal: 837ms\tremaining: 362ms\n",
      "698:\tlearn: 0.2519920\ttotal: 839ms\tremaining: 361ms\n",
      "699:\tlearn: 0.2510749\ttotal: 840ms\tremaining: 360ms\n",
      "700:\tlearn: 0.2508093\ttotal: 841ms\tremaining: 359ms\n",
      "701:\tlearn: 0.2503634\ttotal: 842ms\tremaining: 358ms\n",
      "702:\tlearn: 0.2499882\ttotal: 843ms\tremaining: 356ms\n",
      "703:\tlearn: 0.2498688\ttotal: 845ms\tremaining: 355ms\n",
      "704:\tlearn: 0.2496832\ttotal: 846ms\tremaining: 354ms\n",
      "705:\tlearn: 0.2492480\ttotal: 847ms\tremaining: 353ms\n",
      "706:\tlearn: 0.2488339\ttotal: 848ms\tremaining: 351ms\n",
      "707:\tlearn: 0.2484334\ttotal: 848ms\tremaining: 350ms\n",
      "708:\tlearn: 0.2479466\ttotal: 849ms\tremaining: 349ms\n",
      "709:\tlearn: 0.2478560\ttotal: 850ms\tremaining: 347ms\n",
      "710:\tlearn: 0.2472251\ttotal: 852ms\tremaining: 346ms\n",
      "711:\tlearn: 0.2466258\ttotal: 853ms\tremaining: 345ms\n",
      "712:\tlearn: 0.2464832\ttotal: 854ms\tremaining: 344ms\n",
      "713:\tlearn: 0.2464710\ttotal: 855ms\tremaining: 342ms\n",
      "714:\tlearn: 0.2462670\ttotal: 856ms\tremaining: 341ms\n",
      "715:\tlearn: 0.2458230\ttotal: 857ms\tremaining: 340ms\n",
      "716:\tlearn: 0.2451657\ttotal: 857ms\tremaining: 338ms\n",
      "717:\tlearn: 0.2446261\ttotal: 858ms\tremaining: 337ms\n",
      "718:\tlearn: 0.2445015\ttotal: 859ms\tremaining: 336ms\n",
      "719:\tlearn: 0.2438072\ttotal: 860ms\tremaining: 335ms\n",
      "720:\tlearn: 0.2435414\ttotal: 861ms\tremaining: 333ms\n",
      "721:\tlearn: 0.2433703\ttotal: 862ms\tremaining: 332ms\n",
      "722:\tlearn: 0.2431191\ttotal: 863ms\tremaining: 331ms\n",
      "723:\tlearn: 0.2428989\ttotal: 864ms\tremaining: 329ms\n",
      "724:\tlearn: 0.2424447\ttotal: 865ms\tremaining: 328ms\n",
      "725:\tlearn: 0.2419495\ttotal: 866ms\tremaining: 327ms\n",
      "726:\tlearn: 0.2417505\ttotal: 867ms\tremaining: 325ms\n",
      "727:\tlearn: 0.2416122\ttotal: 868ms\tremaining: 324ms\n",
      "728:\tlearn: 0.2414028\ttotal: 869ms\tremaining: 323ms\n",
      "729:\tlearn: 0.2413896\ttotal: 869ms\tremaining: 322ms\n",
      "730:\tlearn: 0.2410193\ttotal: 870ms\tremaining: 320ms\n",
      "731:\tlearn: 0.2408360\ttotal: 871ms\tremaining: 319ms\n",
      "732:\tlearn: 0.2404060\ttotal: 872ms\tremaining: 318ms\n",
      "733:\tlearn: 0.2399749\ttotal: 873ms\tremaining: 316ms\n",
      "734:\tlearn: 0.2399618\ttotal: 874ms\tremaining: 315ms\n",
      "735:\tlearn: 0.2395605\ttotal: 875ms\tremaining: 314ms\n",
      "736:\tlearn: 0.2393229\ttotal: 876ms\tremaining: 312ms\n",
      "737:\tlearn: 0.2390453\ttotal: 877ms\tremaining: 311ms\n",
      "738:\tlearn: 0.2390326\ttotal: 878ms\tremaining: 310ms\n",
      "739:\tlearn: 0.2389448\ttotal: 878ms\tremaining: 309ms\n",
      "740:\tlearn: 0.2389289\ttotal: 879ms\tremaining: 307ms\n",
      "741:\tlearn: 0.2385797\ttotal: 881ms\tremaining: 306ms\n",
      "742:\tlearn: 0.2385674\ttotal: 881ms\tremaining: 305ms\n",
      "743:\tlearn: 0.2382233\ttotal: 882ms\tremaining: 304ms\n",
      "744:\tlearn: 0.2381838\ttotal: 883ms\tremaining: 302ms\n",
      "745:\tlearn: 0.2381697\ttotal: 884ms\tremaining: 301ms\n",
      "746:\tlearn: 0.2381158\ttotal: 885ms\tremaining: 300ms\n",
      "747:\tlearn: 0.2380650\ttotal: 886ms\tremaining: 298ms\n",
      "748:\tlearn: 0.2380293\ttotal: 887ms\tremaining: 297ms\n",
      "749:\tlearn: 0.2375670\ttotal: 888ms\tremaining: 296ms\n",
      "750:\tlearn: 0.2374905\ttotal: 889ms\tremaining: 295ms\n",
      "751:\tlearn: 0.2372963\ttotal: 889ms\tremaining: 293ms\n",
      "752:\tlearn: 0.2370401\ttotal: 890ms\tremaining: 292ms\n",
      "753:\tlearn: 0.2367077\ttotal: 891ms\tremaining: 291ms\n",
      "754:\tlearn: 0.2362553\ttotal: 892ms\tremaining: 289ms\n",
      "755:\tlearn: 0.2358088\ttotal: 893ms\tremaining: 288ms\n"
     ]
    },
    {
     "name": "stdout",
     "output_type": "stream",
     "text": [
      "756:\tlearn: 0.2356710\ttotal: 895ms\tremaining: 287ms\n",
      "757:\tlearn: 0.2355287\ttotal: 896ms\tremaining: 286ms\n",
      "758:\tlearn: 0.2349405\ttotal: 897ms\tremaining: 285ms\n",
      "759:\tlearn: 0.2345464\ttotal: 898ms\tremaining: 284ms\n",
      "760:\tlearn: 0.2344491\ttotal: 899ms\tremaining: 282ms\n",
      "761:\tlearn: 0.2341450\ttotal: 900ms\tremaining: 281ms\n",
      "762:\tlearn: 0.2337349\ttotal: 901ms\tremaining: 280ms\n",
      "763:\tlearn: 0.2336299\ttotal: 902ms\tremaining: 279ms\n",
      "764:\tlearn: 0.2331874\ttotal: 903ms\tremaining: 277ms\n",
      "765:\tlearn: 0.2331774\ttotal: 904ms\tremaining: 276ms\n",
      "766:\tlearn: 0.2331650\ttotal: 905ms\tremaining: 275ms\n",
      "767:\tlearn: 0.2329799\ttotal: 906ms\tremaining: 274ms\n",
      "768:\tlearn: 0.2329124\ttotal: 907ms\tremaining: 272ms\n",
      "769:\tlearn: 0.2320626\ttotal: 908ms\tremaining: 271ms\n",
      "770:\tlearn: 0.2318926\ttotal: 910ms\tremaining: 270ms\n",
      "771:\tlearn: 0.2317591\ttotal: 911ms\tremaining: 269ms\n",
      "772:\tlearn: 0.2317224\ttotal: 912ms\tremaining: 268ms\n",
      "773:\tlearn: 0.2317074\ttotal: 912ms\tremaining: 266ms\n",
      "774:\tlearn: 0.2316935\ttotal: 913ms\tremaining: 265ms\n",
      "775:\tlearn: 0.2311618\ttotal: 915ms\tremaining: 264ms\n",
      "776:\tlearn: 0.2310267\ttotal: 917ms\tremaining: 263ms\n",
      "777:\tlearn: 0.2308333\ttotal: 918ms\tremaining: 262ms\n",
      "778:\tlearn: 0.2303586\ttotal: 919ms\tremaining: 261ms\n",
      "779:\tlearn: 0.2303481\ttotal: 920ms\tremaining: 259ms\n",
      "780:\tlearn: 0.2298912\ttotal: 921ms\tremaining: 258ms\n",
      "781:\tlearn: 0.2287761\ttotal: 922ms\tremaining: 257ms\n",
      "782:\tlearn: 0.2283238\ttotal: 923ms\tremaining: 256ms\n",
      "783:\tlearn: 0.2279606\ttotal: 923ms\tremaining: 254ms\n",
      "784:\tlearn: 0.2276112\ttotal: 925ms\tremaining: 253ms\n",
      "785:\tlearn: 0.2274730\ttotal: 926ms\tremaining: 252ms\n",
      "786:\tlearn: 0.2274063\ttotal: 927ms\tremaining: 251ms\n",
      "787:\tlearn: 0.2273952\ttotal: 928ms\tremaining: 250ms\n",
      "788:\tlearn: 0.2271655\ttotal: 929ms\tremaining: 248ms\n",
      "789:\tlearn: 0.2269742\ttotal: 930ms\tremaining: 247ms\n",
      "790:\tlearn: 0.2269610\ttotal: 931ms\tremaining: 246ms\n",
      "791:\tlearn: 0.2266035\ttotal: 932ms\tremaining: 245ms\n",
      "792:\tlearn: 0.2264076\ttotal: 932ms\tremaining: 243ms\n",
      "793:\tlearn: 0.2263050\ttotal: 933ms\tremaining: 242ms\n",
      "794:\tlearn: 0.2260177\ttotal: 934ms\tremaining: 241ms\n",
      "795:\tlearn: 0.2256790\ttotal: 935ms\tremaining: 240ms\n",
      "796:\tlearn: 0.2255028\ttotal: 936ms\tremaining: 238ms\n",
      "797:\tlearn: 0.2252345\ttotal: 937ms\tremaining: 237ms\n",
      "798:\tlearn: 0.2248266\ttotal: 937ms\tremaining: 236ms\n",
      "799:\tlearn: 0.2245435\ttotal: 939ms\tremaining: 235ms\n",
      "800:\tlearn: 0.2244042\ttotal: 939ms\tremaining: 233ms\n",
      "801:\tlearn: 0.2243933\ttotal: 940ms\tremaining: 232ms\n",
      "802:\tlearn: 0.2235783\ttotal: 941ms\tremaining: 231ms\n",
      "803:\tlearn: 0.2230762\ttotal: 942ms\tremaining: 230ms\n",
      "804:\tlearn: 0.2227423\ttotal: 943ms\tremaining: 228ms\n",
      "805:\tlearn: 0.2225366\ttotal: 944ms\tremaining: 227ms\n",
      "806:\tlearn: 0.2221100\ttotal: 945ms\tremaining: 226ms\n",
      "807:\tlearn: 0.2218173\ttotal: 946ms\tremaining: 225ms\n",
      "808:\tlearn: 0.2217161\ttotal: 947ms\tremaining: 224ms\n",
      "809:\tlearn: 0.2213942\ttotal: 948ms\tremaining: 222ms\n",
      "810:\tlearn: 0.2211786\ttotal: 948ms\tremaining: 221ms\n",
      "811:\tlearn: 0.2210240\ttotal: 949ms\tremaining: 220ms\n",
      "812:\tlearn: 0.2205897\ttotal: 950ms\tremaining: 219ms\n",
      "813:\tlearn: 0.2205068\ttotal: 951ms\tremaining: 217ms\n",
      "814:\tlearn: 0.2202604\ttotal: 952ms\tremaining: 216ms\n",
      "815:\tlearn: 0.2197970\ttotal: 953ms\tremaining: 215ms\n",
      "816:\tlearn: 0.2195150\ttotal: 954ms\tremaining: 214ms\n",
      "817:\tlearn: 0.2192845\ttotal: 955ms\tremaining: 212ms\n",
      "818:\tlearn: 0.2188935\ttotal: 956ms\tremaining: 211ms\n",
      "819:\tlearn: 0.2185657\ttotal: 956ms\tremaining: 210ms\n",
      "820:\tlearn: 0.2184741\ttotal: 957ms\tremaining: 209ms\n",
      "821:\tlearn: 0.2178468\ttotal: 958ms\tremaining: 207ms\n",
      "822:\tlearn: 0.2173463\ttotal: 959ms\tremaining: 206ms\n",
      "823:\tlearn: 0.2171973\ttotal: 960ms\tremaining: 205ms\n",
      "824:\tlearn: 0.2169446\ttotal: 961ms\tremaining: 204ms\n",
      "825:\tlearn: 0.2163950\ttotal: 962ms\tremaining: 203ms\n",
      "826:\tlearn: 0.2161831\ttotal: 963ms\tremaining: 201ms\n",
      "827:\tlearn: 0.2160559\ttotal: 963ms\tremaining: 200ms\n",
      "828:\tlearn: 0.2154430\ttotal: 964ms\tremaining: 199ms\n",
      "829:\tlearn: 0.2151711\ttotal: 965ms\tremaining: 198ms\n",
      "830:\tlearn: 0.2150849\ttotal: 966ms\tremaining: 196ms\n",
      "831:\tlearn: 0.2145997\ttotal: 967ms\tremaining: 195ms\n",
      "832:\tlearn: 0.2144946\ttotal: 968ms\tremaining: 194ms\n",
      "833:\tlearn: 0.2140872\ttotal: 969ms\tremaining: 193ms\n",
      "834:\tlearn: 0.2138876\ttotal: 970ms\tremaining: 192ms\n",
      "835:\tlearn: 0.2134936\ttotal: 971ms\tremaining: 190ms\n",
      "836:\tlearn: 0.2134715\ttotal: 972ms\tremaining: 189ms\n",
      "837:\tlearn: 0.2130746\ttotal: 973ms\tremaining: 188ms\n",
      "838:\tlearn: 0.2128247\ttotal: 973ms\tremaining: 187ms\n",
      "839:\tlearn: 0.2125906\ttotal: 974ms\tremaining: 186ms\n",
      "840:\tlearn: 0.2120936\ttotal: 975ms\tremaining: 184ms\n",
      "841:\tlearn: 0.2118779\ttotal: 976ms\tremaining: 183ms\n",
      "842:\tlearn: 0.2118565\ttotal: 977ms\tremaining: 182ms\n",
      "843:\tlearn: 0.2114927\ttotal: 978ms\tremaining: 181ms\n",
      "844:\tlearn: 0.2114843\ttotal: 979ms\tremaining: 180ms\n",
      "845:\tlearn: 0.2110810\ttotal: 979ms\tremaining: 178ms\n",
      "846:\tlearn: 0.2108447\ttotal: 980ms\tremaining: 177ms\n",
      "847:\tlearn: 0.2107193\ttotal: 981ms\tremaining: 176ms\n",
      "848:\tlearn: 0.2106155\ttotal: 982ms\tremaining: 175ms\n",
      "849:\tlearn: 0.2102320\ttotal: 983ms\tremaining: 173ms\n",
      "850:\tlearn: 0.2101562\ttotal: 984ms\tremaining: 172ms\n",
      "851:\tlearn: 0.2100456\ttotal: 985ms\tremaining: 171ms\n",
      "852:\tlearn: 0.2099187\ttotal: 986ms\tremaining: 170ms\n",
      "853:\tlearn: 0.2094672\ttotal: 987ms\tremaining: 169ms\n",
      "854:\tlearn: 0.2092813\ttotal: 987ms\tremaining: 167ms\n",
      "855:\tlearn: 0.2092729\ttotal: 988ms\tremaining: 166ms\n",
      "856:\tlearn: 0.2091728\ttotal: 989ms\tremaining: 165ms\n",
      "857:\tlearn: 0.2089336\ttotal: 990ms\tremaining: 164ms\n",
      "858:\tlearn: 0.2083673\ttotal: 991ms\tremaining: 163ms\n",
      "859:\tlearn: 0.2083599\ttotal: 992ms\tremaining: 161ms\n",
      "860:\tlearn: 0.2081403\ttotal: 993ms\tremaining: 160ms\n",
      "861:\tlearn: 0.2077533\ttotal: 994ms\tremaining: 159ms\n",
      "862:\tlearn: 0.2075645\ttotal: 994ms\tremaining: 158ms\n",
      "863:\tlearn: 0.2073783\ttotal: 996ms\tremaining: 157ms\n",
      "864:\tlearn: 0.2072650\ttotal: 997ms\tremaining: 156ms\n",
      "865:\tlearn: 0.2069296\ttotal: 999ms\tremaining: 155ms\n",
      "866:\tlearn: 0.2068262\ttotal: 1s\tremaining: 154ms\n",
      "867:\tlearn: 0.2067304\ttotal: 1s\tremaining: 152ms\n",
      "868:\tlearn: 0.2065082\ttotal: 1s\tremaining: 151ms\n",
      "869:\tlearn: 0.2058005\ttotal: 1s\tremaining: 150ms\n",
      "870:\tlearn: 0.2053515\ttotal: 1s\tremaining: 149ms\n",
      "871:\tlearn: 0.2050231\ttotal: 1s\tremaining: 148ms\n",
      "872:\tlearn: 0.2046856\ttotal: 1.01s\tremaining: 146ms\n",
      "873:\tlearn: 0.2042750\ttotal: 1.01s\tremaining: 145ms\n",
      "874:\tlearn: 0.2042013\ttotal: 1.01s\tremaining: 144ms\n",
      "875:\tlearn: 0.2038767\ttotal: 1.01s\tremaining: 143ms\n",
      "876:\tlearn: 0.2038112\ttotal: 1.01s\tremaining: 142ms\n",
      "877:\tlearn: 0.2038022\ttotal: 1.01s\tremaining: 140ms\n",
      "878:\tlearn: 0.2036224\ttotal: 1.01s\tremaining: 139ms\n",
      "879:\tlearn: 0.2031710\ttotal: 1.01s\tremaining: 138ms\n",
      "880:\tlearn: 0.2028402\ttotal: 1.01s\tremaining: 137ms\n",
      "881:\tlearn: 0.2028058\ttotal: 1.01s\tremaining: 136ms\n",
      "882:\tlearn: 0.2027574\ttotal: 1.02s\tremaining: 135ms\n",
      "883:\tlearn: 0.2026527\ttotal: 1.02s\tremaining: 133ms\n",
      "884:\tlearn: 0.2026431\ttotal: 1.02s\tremaining: 132ms\n",
      "885:\tlearn: 0.2022790\ttotal: 1.02s\tremaining: 131ms\n",
      "886:\tlearn: 0.2018566\ttotal: 1.02s\tremaining: 130ms\n",
      "887:\tlearn: 0.2015565\ttotal: 1.02s\tremaining: 129ms\n",
      "888:\tlearn: 0.2014093\ttotal: 1.02s\tremaining: 128ms\n",
      "889:\tlearn: 0.2007363\ttotal: 1.02s\tremaining: 126ms\n",
      "890:\tlearn: 0.2006783\ttotal: 1.02s\tremaining: 125ms\n",
      "891:\tlearn: 0.2005566\ttotal: 1.02s\tremaining: 124ms\n",
      "892:\tlearn: 0.2001613\ttotal: 1.02s\tremaining: 123ms\n",
      "893:\tlearn: 0.2000122\ttotal: 1.02s\tremaining: 122ms\n",
      "894:\tlearn: 0.1998246\ttotal: 1.03s\tremaining: 120ms\n",
      "895:\tlearn: 0.1995088\ttotal: 1.03s\tremaining: 119ms\n",
      "896:\tlearn: 0.1990873\ttotal: 1.03s\tremaining: 118ms\n",
      "897:\tlearn: 0.1990789\ttotal: 1.03s\tremaining: 117ms\n",
      "898:\tlearn: 0.1988303\ttotal: 1.03s\tremaining: 116ms\n",
      "899:\tlearn: 0.1986233\ttotal: 1.03s\tremaining: 115ms\n",
      "900:\tlearn: 0.1985440\ttotal: 1.03s\tremaining: 113ms\n",
      "901:\tlearn: 0.1984614\ttotal: 1.03s\tremaining: 112ms\n",
      "902:\tlearn: 0.1980986\ttotal: 1.03s\tremaining: 111ms\n",
      "903:\tlearn: 0.1977433\ttotal: 1.03s\tremaining: 110ms\n",
      "904:\tlearn: 0.1973428\ttotal: 1.03s\tremaining: 109ms\n",
      "905:\tlearn: 0.1973319\ttotal: 1.04s\tremaining: 108ms\n",
      "906:\tlearn: 0.1971373\ttotal: 1.04s\tremaining: 106ms\n",
      "907:\tlearn: 0.1971293\ttotal: 1.04s\tremaining: 105ms\n",
      "908:\tlearn: 0.1970539\ttotal: 1.04s\tremaining: 104ms\n",
      "909:\tlearn: 0.1968723\ttotal: 1.04s\tremaining: 103ms\n",
      "910:\tlearn: 0.1966233\ttotal: 1.04s\tremaining: 102ms\n",
      "911:\tlearn: 0.1965082\ttotal: 1.04s\tremaining: 101ms\n",
      "912:\tlearn: 0.1962842\ttotal: 1.04s\tremaining: 99.4ms\n",
      "913:\tlearn: 0.1959069\ttotal: 1.04s\tremaining: 98.3ms\n",
      "914:\tlearn: 0.1955638\ttotal: 1.04s\tremaining: 97.1ms\n",
      "915:\tlearn: 0.1954688\ttotal: 1.04s\tremaining: 95.9ms\n",
      "916:\tlearn: 0.1954609\ttotal: 1.05s\tremaining: 94.7ms\n",
      "917:\tlearn: 0.1952739\ttotal: 1.05s\tremaining: 93.6ms\n",
      "918:\tlearn: 0.1950997\ttotal: 1.05s\tremaining: 92.4ms\n",
      "919:\tlearn: 0.1947365\ttotal: 1.05s\tremaining: 91.3ms\n",
      "920:\tlearn: 0.1945046\ttotal: 1.05s\tremaining: 90.1ms\n",
      "921:\tlearn: 0.1944314\ttotal: 1.05s\tremaining: 88.9ms\n",
      "922:\tlearn: 0.1944215\ttotal: 1.05s\tremaining: 87.8ms\n",
      "923:\tlearn: 0.1942784\ttotal: 1.05s\tremaining: 86.6ms\n",
      "924:\tlearn: 0.1941881\ttotal: 1.05s\tremaining: 85.5ms\n",
      "925:\tlearn: 0.1941804\ttotal: 1.05s\tremaining: 84.3ms\n",
      "926:\tlearn: 0.1941707\ttotal: 1.06s\tremaining: 83.2ms\n",
      "927:\tlearn: 0.1939247\ttotal: 1.06s\tremaining: 82.1ms\n",
      "928:\tlearn: 0.1936316\ttotal: 1.06s\tremaining: 80.9ms\n",
      "929:\tlearn: 0.1933594\ttotal: 1.06s\tremaining: 79.7ms\n",
      "930:\tlearn: 0.1931604\ttotal: 1.06s\tremaining: 78.6ms\n",
      "931:\tlearn: 0.1926112\ttotal: 1.06s\tremaining: 77.4ms\n",
      "932:\tlearn: 0.1924299\ttotal: 1.06s\tremaining: 76.3ms\n",
      "933:\tlearn: 0.1923525\ttotal: 1.06s\tremaining: 75.1ms\n",
      "934:\tlearn: 0.1920536\ttotal: 1.06s\tremaining: 74ms\n",
      "935:\tlearn: 0.1917105\ttotal: 1.06s\tremaining: 72.8ms\n",
      "936:\tlearn: 0.1913889\ttotal: 1.06s\tremaining: 71.7ms\n",
      "937:\tlearn: 0.1911581\ttotal: 1.07s\tremaining: 70.5ms\n",
      "938:\tlearn: 0.1910570\ttotal: 1.07s\tremaining: 69.4ms\n",
      "939:\tlearn: 0.1910207\ttotal: 1.07s\tremaining: 68.2ms\n"
     ]
    },
    {
     "name": "stdout",
     "output_type": "stream",
     "text": [
      "940:\tlearn: 0.1909109\ttotal: 1.07s\tremaining: 67ms\n",
      "941:\tlearn: 0.1908299\ttotal: 1.07s\tremaining: 66ms\n",
      "942:\tlearn: 0.1905644\ttotal: 1.07s\tremaining: 64.8ms\n",
      "943:\tlearn: 0.1902060\ttotal: 1.07s\tremaining: 63.7ms\n",
      "944:\tlearn: 0.1900438\ttotal: 1.07s\tremaining: 62.5ms\n",
      "945:\tlearn: 0.1894210\ttotal: 1.07s\tremaining: 61.4ms\n",
      "946:\tlearn: 0.1892981\ttotal: 1.08s\tremaining: 60.3ms\n",
      "947:\tlearn: 0.1892910\ttotal: 1.08s\tremaining: 59.1ms\n",
      "948:\tlearn: 0.1890782\ttotal: 1.08s\tremaining: 58ms\n",
      "949:\tlearn: 0.1888450\ttotal: 1.08s\tremaining: 56.8ms\n",
      "950:\tlearn: 0.1888068\ttotal: 1.08s\tremaining: 55.7ms\n",
      "951:\tlearn: 0.1886191\ttotal: 1.08s\tremaining: 54.5ms\n",
      "952:\tlearn: 0.1885327\ttotal: 1.08s\tremaining: 53.4ms\n",
      "953:\tlearn: 0.1884635\ttotal: 1.08s\tremaining: 52.2ms\n",
      "954:\tlearn: 0.1882371\ttotal: 1.08s\tremaining: 51.1ms\n",
      "955:\tlearn: 0.1882289\ttotal: 1.08s\tremaining: 49.9ms\n",
      "956:\tlearn: 0.1880030\ttotal: 1.09s\tremaining: 48.8ms\n",
      "957:\tlearn: 0.1879295\ttotal: 1.09s\tremaining: 47.7ms\n",
      "958:\tlearn: 0.1878477\ttotal: 1.09s\tremaining: 46.5ms\n",
      "959:\tlearn: 0.1870493\ttotal: 1.09s\tremaining: 45.4ms\n",
      "960:\tlearn: 0.1867635\ttotal: 1.09s\tremaining: 44.2ms\n",
      "961:\tlearn: 0.1866351\ttotal: 1.09s\tremaining: 43.1ms\n",
      "962:\tlearn: 0.1864464\ttotal: 1.09s\tremaining: 42ms\n",
      "963:\tlearn: 0.1863978\ttotal: 1.09s\tremaining: 40.8ms\n",
      "964:\tlearn: 0.1862846\ttotal: 1.09s\tremaining: 39.7ms\n",
      "965:\tlearn: 0.1860168\ttotal: 1.09s\tremaining: 38.5ms\n",
      "966:\tlearn: 0.1857286\ttotal: 1.1s\tremaining: 37.4ms\n",
      "967:\tlearn: 0.1857207\ttotal: 1.1s\tremaining: 36.3ms\n",
      "968:\tlearn: 0.1854349\ttotal: 1.1s\tremaining: 35.2ms\n",
      "969:\tlearn: 0.1854153\ttotal: 1.1s\tremaining: 34ms\n",
      "970:\tlearn: 0.1852402\ttotal: 1.1s\tremaining: 32.9ms\n",
      "971:\tlearn: 0.1850464\ttotal: 1.1s\tremaining: 31.8ms\n",
      "972:\tlearn: 0.1848160\ttotal: 1.1s\tremaining: 30.7ms\n",
      "973:\tlearn: 0.1845960\ttotal: 1.11s\tremaining: 29.5ms\n",
      "974:\tlearn: 0.1845177\ttotal: 1.11s\tremaining: 28.4ms\n",
      "975:\tlearn: 0.1844377\ttotal: 1.11s\tremaining: 27.2ms\n",
      "976:\tlearn: 0.1842837\ttotal: 1.11s\tremaining: 26.1ms\n",
      "977:\tlearn: 0.1842697\ttotal: 1.11s\tremaining: 25ms\n",
      "978:\tlearn: 0.1837733\ttotal: 1.11s\tremaining: 23.8ms\n",
      "979:\tlearn: 0.1836726\ttotal: 1.11s\tremaining: 22.7ms\n",
      "980:\tlearn: 0.1836428\ttotal: 1.11s\tremaining: 21.6ms\n",
      "981:\tlearn: 0.1835622\ttotal: 1.11s\tremaining: 20.4ms\n",
      "982:\tlearn: 0.1834419\ttotal: 1.11s\tremaining: 19.3ms\n",
      "983:\tlearn: 0.1832087\ttotal: 1.12s\tremaining: 18.2ms\n",
      "984:\tlearn: 0.1830796\ttotal: 1.12s\tremaining: 17ms\n",
      "985:\tlearn: 0.1829725\ttotal: 1.12s\tremaining: 15.9ms\n",
      "986:\tlearn: 0.1829067\ttotal: 1.12s\tremaining: 14.7ms\n",
      "987:\tlearn: 0.1827474\ttotal: 1.12s\tremaining: 13.6ms\n",
      "988:\tlearn: 0.1826167\ttotal: 1.12s\tremaining: 12.5ms\n",
      "989:\tlearn: 0.1825403\ttotal: 1.12s\tremaining: 11.3ms\n",
      "990:\tlearn: 0.1824805\ttotal: 1.12s\tremaining: 10.2ms\n",
      "991:\tlearn: 0.1822559\ttotal: 1.12s\tremaining: 9.06ms\n",
      "992:\tlearn: 0.1820915\ttotal: 1.12s\tremaining: 7.93ms\n",
      "993:\tlearn: 0.1820129\ttotal: 1.13s\tremaining: 6.79ms\n",
      "994:\tlearn: 0.1819959\ttotal: 1.13s\tremaining: 5.66ms\n",
      "995:\tlearn: 0.1819574\ttotal: 1.13s\tremaining: 4.53ms\n",
      "996:\tlearn: 0.1817010\ttotal: 1.13s\tremaining: 3.4ms\n",
      "997:\tlearn: 0.1814341\ttotal: 1.13s\tremaining: 2.26ms\n",
      "998:\tlearn: 0.1813583\ttotal: 1.13s\tremaining: 1.13ms\n",
      "999:\tlearn: 0.1811251\ttotal: 1.13s\tremaining: 0us\n"
     ]
    }
   ],
   "source": [
    "CBR_model = CatBoostRegressor()\n",
    "CBR_model.fit(X_train, y_train)\n",
    "CBR_y_pred = CBR_model.predict(X_test)"
   ]
  },
  {
   "cell_type": "code",
   "execution_count": 67,
   "id": "17cd803b",
   "metadata": {},
   "outputs": [
    {
     "data": {
      "image/png": "[encoded data removed]",
      "text/plain": [
       "<Figure size 640x480 with 1 Axes>"
      ]
     },
     "metadata": {},
     "output_type": "display_data"
    }
   ],
   "source": [
    "plt.scatter(y_test, CBR_y_pred);"
   ]
  },
  {
   "cell_type": "code",
   "execution_count": 68,
   "id": "4cce48fa",
   "metadata": {},
   "outputs": [
    {
     "name": "stdout",
     "output_type": "stream",
     "text": [
      "MAE:0.5097258370652804, MSE: 0.6627723092087091, R2: 0.9758766475456004\n"
     ]
    }
   ],
   "source": [
    "# evaluate model\n",
    "CBR_MAE = mean_absolute_error(y_test, CBR_y_pred)\n",
    "CBR_MSE = mean_squared_error(y_test, CBR_y_pred)\n",
    "CBR_R2 = r2_score(y_test, CBR_y_pred)\n",
    "\n",
    "# printing the results\n",
    "print(f'MAE:{CBR_MAE}, MSE: {CBR_MSE}, R2: {CBR_R2}')"
   ]
  },
  {
   "cell_type": "code",
   "execution_count": 69,
   "id": "f1fa7304",
   "metadata": {},
   "outputs": [
    {
     "data": {
      "text/html": [
       "<div>\n",
       "<style scoped>\n",
       "    .dataframe tbody tr th:only-of-type {\n",
       "        vertical-align: middle;\n",
       "    }\n",
       "\n",
       "    .dataframe tbody tr th {\n",
       "        vertical-align: top;\n",
       "    }\n",
       "\n",
       "    .dataframe thead th {\n",
       "        text-align: right;\n",
       "    }\n",
       "</style>\n",
       "<table border=\"1\" class=\"dataframe\">\n",
       "  <thead>\n",
       "    <tr style=\"text-align: right;\">\n",
       "      <th></th>\n",
       "      <th>Actual</th>\n",
       "      <th>Prediction</th>\n",
       "    </tr>\n",
       "  </thead>\n",
       "  <tbody>\n",
       "    <tr>\n",
       "      <th>177</th>\n",
       "      <td>0.35</td>\n",
       "      <td>0.592639</td>\n",
       "    </tr>\n",
       "    <tr>\n",
       "      <th>289</th>\n",
       "      <td>10.11</td>\n",
       "      <td>10.833225</td>\n",
       "    </tr>\n",
       "    <tr>\n",
       "      <th>228</th>\n",
       "      <td>4.95</td>\n",
       "      <td>5.120798</td>\n",
       "    </tr>\n",
       "    <tr>\n",
       "      <th>198</th>\n",
       "      <td>0.15</td>\n",
       "      <td>0.342871</td>\n",
       "    </tr>\n",
       "    <tr>\n",
       "      <th>60</th>\n",
       "      <td>6.95</td>\n",
       "      <td>7.926235</td>\n",
       "    </tr>\n",
       "  </tbody>\n",
       "</table>\n",
       "</div>"
      ],
      "text/plain": [
       "     Actual  Prediction\n",
       "177    0.35    0.592639\n",
       "289   10.11   10.833225\n",
       "228    4.95    5.120798\n",
       "198    0.15    0.342871\n",
       "60     6.95    7.926235"
      ]
     },
     "execution_count": 69,
     "metadata": {},
     "output_type": "execute_result"
    }
   ],
   "source": [
    "CBR_df = pd.DataFrame({'Actual': y_test, 'Prediction': CBR_y_pred})\n",
    "CBR_df.head()"
   ]
  },
  {
   "cell_type": "code",
   "execution_count": 70,
   "id": "7721a522",
   "metadata": {},
   "outputs": [
    {
     "data": {
      "image/png": "[encoded data removed]",
      "text/plain": [
       "<Figure size 619.25x500 with 1 Axes>"
      ]
     },
     "metadata": {},
     "output_type": "display_data"
    }
   ],
   "source": [
    "ax = sns.displot(data = (CBR_df['Actual'], CBR_df['Prediction']),kind = 'kde')"
   ]
  },
  {
   "cell_type": "markdown",
   "id": "e56a809d",
   "metadata": {},
   "source": [
    "Catboost regressor also is doing well so tuning is unnecessary"
   ]
  },
  {
   "cell_type": "code",
   "execution_count": 72,
   "id": "34e487eb",
   "metadata": {
    "scrolled": true
   },
   "outputs": [
    {
     "name": "stdout",
     "output_type": "stream",
     "text": [
      "GBR_MAE:0.541, GBR_MSE: 0.881, GBR_R2: 0.968\n",
      "-----------------------------------\n",
      "SGDR_MAE:6.424550755986201e+18, SGDR_MSE: 5.884683481743032e+37, SGDR_R2: -2.1418863120904382e+36\n",
      "-----------------------------------\n",
      "Tuned_SGDR_MAE:59.07, Tuned_SGDR_MSE: 5217.386, Tuned_SGDR_R2: -188.901\n",
      "-----------------------------------\n",
      "RFR_MAE: 0.575 | RFR_MSE: 0.794 | RFR_R2: 0.971\n",
      "-----------------------------------\n",
      "CBR_MAE:0.51, CBR_MSE: 0.663, CBR_R2: 0.976\n"
     ]
    }
   ],
   "source": [
    "print(f'GBR_MAE:{round(GBR_MAE, 3)}, GBR_MSE: {round(GBR_MSE, 3)}, GBR_R2: {round(GBR_R2, 3)}')\n",
    "print('-----------------------------------')\n",
    "print(f'SGDR_MAE:{round(SGDR_MAE, 3)}, SGDR_MSE: {round(SGDR_MSE, 3)}, SGDR_R2: {round(SGDR_R2, 3)}')\n",
    "print('-----------------------------------')\n",
    "print(f'Tuned_SGDR_MAE:{round(T_SGDR_MAE, 3)}, Tuned_SGDR_MSE: {round(T_SGDR_MSE, 3)}, Tuned_SGDR_R2: {round(T_SGDR_R2, 3)}')\n",
    "print('-----------------------------------')\n",
    "print(f'RFR_MAE: {round(RFR_MAE, 3)} | RFR_MSE: {round(RFR_MSE, 3)} | RFR_R2: {round(RFR_R2, 3)}')\n",
    "print('-----------------------------------')\n",
    "print(f'CBR_MAE:{round(CBR_MAE, 3)}, CBR_MSE: {round(CBR_MSE, 3)}, CBR_R2: {round(CBR_R2, 3)}')"
   ]
  },
  {
   "cell_type": "markdown",
   "id": "57d44065",
   "metadata": {},
   "source": [
    "## Conclusion"
   ]
  },
  {
   "cell_type": "markdown",
   "id": "07d52cee",
   "metadata": {},
   "source": [
    "Based on our exploratory data analysis, it was determined that the selling price of cars is predominantly influenced by factors such as the current price, fuel type, and seller type. Specifically, a higher current price tends to correspond to a higher selling price. Moreover, vehicles with diesel fuel type tend to exhibit higher price tags, while cars sold by dealers tend to have inflated prices, potentially attributable to profit margins.\n",
    "\n",
    "In the realm of machine learning models, we conducted a comprehensive comparison analysis involving four specific regressor models: Gradient Boosting Regressor, SGD Regressor, Random Forest Regressor, and CatBoost Regressor. Subsequent evaluation revealed that the CatBoost Regressor exhibited the highest accuracy score, garnering an impressive performance level of 97.6%."
   ]
  }
 ],
 "metadata": {
  "kernelspec": {
   "display_name": "Car_price_prediction",
   "language": "python",
   "name": "car_price_prediction"
  },
  "language_info": {
   "codemirror_mode": {
    "name": "ipython",
    "version": 3
   },
   "file_extension": ".py",
   "mimetype": "text/x-python",
   "name": "python",
   "nbconvert_exporter": "python",
   "pygments_lexer": "ipython3",
   "version": "3.9.13"
  }
 },
 "nbformat": 4,
 "nbformat_minor": 5
}
